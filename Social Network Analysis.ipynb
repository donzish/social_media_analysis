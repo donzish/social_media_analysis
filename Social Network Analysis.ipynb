{
  "nbformat": 4,
  "nbformat_minor": 0,
  "metadata": {
    "colab": {
      "name": "Progetto_SMA.ipynb",
      "provenance": [],
      "collapsed_sections": [
        "t4nR7aRxU4Dc"
      ]
    },
    "kernelspec": {
      "name": "python3",
      "display_name": "Python 3"
    },
    "language_info": {
      "name": "python"
    }
  },
  "cells": [
    {
      "cell_type": "markdown",
      "source": [
        "# Progetto Social Media Analytics"
      ],
      "metadata": {
        "id": "OOluCbB33Xxm"
      }
    },
    {
      "cell_type": "markdown",
      "source": [
        "## Dataset \n",
        "\n",
        "Tramite il codice python sono stati scaricati i commenti più recenti di ogni video del canale youtube *Luke Barousse* (https://www.youtube.com/c/LukeBarousse). Non sono stati scaricati i commenti di risposta ad altri commenti.\n",
        "\n",
        "Per la fase di acquisizione dati è stato utilizzato il codice *project_SMA*."
      ],
      "metadata": {
        "id": "gcbK8e5a3dcr"
      }
    },
    {
      "cell_type": "code",
      "source": [
        "!pip install pyvis"
      ],
      "metadata": {
        "colab": {
          "base_uri": "https://localhost:8080/"
        },
        "id": "Q7RkkodX31nm",
        "outputId": "d8cd1672-9e4c-47b4-fc31-62c550f1783e"
      },
      "execution_count": 1,
      "outputs": [
        {
          "output_type": "stream",
          "name": "stdout",
          "text": [
            "Collecting pyvis\n",
            "  Downloading pyvis-0.1.9-py3-none-any.whl (23 kB)\n",
            "Requirement already satisfied: ipython>=5.3.0 in /usr/local/lib/python3.7/dist-packages (from pyvis) (5.5.0)\n",
            "Requirement already satisfied: jinja2>=2.9.6 in /usr/local/lib/python3.7/dist-packages (from pyvis) (2.11.3)\n",
            "Requirement already satisfied: networkx>=1.11 in /usr/local/lib/python3.7/dist-packages (from pyvis) (2.6.3)\n",
            "Collecting jsonpickle>=1.4.1\n",
            "  Downloading jsonpickle-2.1.0-py2.py3-none-any.whl (38 kB)\n",
            "Requirement already satisfied: pygments in /usr/local/lib/python3.7/dist-packages (from ipython>=5.3.0->pyvis) (2.6.1)\n",
            "Requirement already satisfied: pexpect in /usr/local/lib/python3.7/dist-packages (from ipython>=5.3.0->pyvis) (4.8.0)\n",
            "Requirement already satisfied: traitlets>=4.2 in /usr/local/lib/python3.7/dist-packages (from ipython>=5.3.0->pyvis) (5.1.1)\n",
            "Requirement already satisfied: simplegeneric>0.8 in /usr/local/lib/python3.7/dist-packages (from ipython>=5.3.0->pyvis) (0.8.1)\n",
            "Requirement already satisfied: pickleshare in /usr/local/lib/python3.7/dist-packages (from ipython>=5.3.0->pyvis) (0.7.5)\n",
            "Requirement already satisfied: setuptools>=18.5 in /usr/local/lib/python3.7/dist-packages (from ipython>=5.3.0->pyvis) (57.4.0)\n",
            "Requirement already satisfied: decorator in /usr/local/lib/python3.7/dist-packages (from ipython>=5.3.0->pyvis) (4.4.2)\n",
            "Requirement already satisfied: prompt-toolkit<2.0.0,>=1.0.4 in /usr/local/lib/python3.7/dist-packages (from ipython>=5.3.0->pyvis) (1.0.18)\n",
            "Requirement already satisfied: MarkupSafe>=0.23 in /usr/local/lib/python3.7/dist-packages (from jinja2>=2.9.6->pyvis) (2.0.1)\n",
            "Requirement already satisfied: importlib-metadata in /usr/local/lib/python3.7/dist-packages (from jsonpickle>=1.4.1->pyvis) (4.10.1)\n",
            "Requirement already satisfied: six>=1.9.0 in /usr/local/lib/python3.7/dist-packages (from prompt-toolkit<2.0.0,>=1.0.4->ipython>=5.3.0->pyvis) (1.15.0)\n",
            "Requirement already satisfied: wcwidth in /usr/local/lib/python3.7/dist-packages (from prompt-toolkit<2.0.0,>=1.0.4->ipython>=5.3.0->pyvis) (0.2.5)\n",
            "Requirement already satisfied: zipp>=0.5 in /usr/local/lib/python3.7/dist-packages (from importlib-metadata->jsonpickle>=1.4.1->pyvis) (3.7.0)\n",
            "Requirement already satisfied: typing-extensions>=3.6.4 in /usr/local/lib/python3.7/dist-packages (from importlib-metadata->jsonpickle>=1.4.1->pyvis) (3.10.0.2)\n",
            "Requirement already satisfied: ptyprocess>=0.5 in /usr/local/lib/python3.7/dist-packages (from pexpect->ipython>=5.3.0->pyvis) (0.7.0)\n",
            "Installing collected packages: jsonpickle, pyvis\n",
            "Successfully installed jsonpickle-2.1.0 pyvis-0.1.9\n"
          ]
        }
      ]
    },
    {
      "cell_type": "code",
      "source": [
        "import pandas as pd\n",
        "import networkx as nx\n",
        "import matplotlib.pyplot as plt\n",
        "from pyvis.network import Network\n",
        "import itertools"
      ],
      "metadata": {
        "id": "b_KOFeEu3laL"
      },
      "execution_count": 2,
      "outputs": []
    },
    {
      "cell_type": "code",
      "source": [
        "df = pd.read_csv('./eng_comments.csv')\n",
        "df.head()"
      ],
      "metadata": {
        "colab": {
          "base_uri": "https://localhost:8080/",
          "height": 704
        },
        "id": "ySQvALmr-lgX",
        "outputId": "8340643f-5926-4a5e-e0c3-39896b01c220"
      },
      "execution_count": 3,
      "outputs": [
        {
          "output_type": "execute_result",
          "data": {
            "text/html": [
              "\n",
              "  <div id=\"df-86164385-7868-4f78-b964-68bf5b852ed4\">\n",
              "    <div class=\"colab-df-container\">\n",
              "      <div>\n",
              "<style scoped>\n",
              "    .dataframe tbody tr th:only-of-type {\n",
              "        vertical-align: middle;\n",
              "    }\n",
              "\n",
              "    .dataframe tbody tr th {\n",
              "        vertical-align: top;\n",
              "    }\n",
              "\n",
              "    .dataframe thead th {\n",
              "        text-align: right;\n",
              "    }\n",
              "</style>\n",
              "<table border=\"1\" class=\"dataframe\">\n",
              "  <thead>\n",
              "    <tr style=\"text-align: right;\">\n",
              "      <th></th>\n",
              "      <th>Unnamed: 0</th>\n",
              "      <th>comment</th>\n",
              "      <th>comment_id</th>\n",
              "      <th>author_url</th>\n",
              "      <th>author_name</th>\n",
              "      <th>reply_count</th>\n",
              "      <th>like_count</th>\n",
              "      <th>date</th>\n",
              "      <th>vidid</th>\n",
              "      <th>total_reply_counts</th>\n",
              "      <th>vid_title</th>\n",
              "      <th>just_date</th>\n",
              "    </tr>\n",
              "  </thead>\n",
              "  <tbody>\n",
              "    <tr>\n",
              "      <th>0</th>\n",
              "      <td>0</td>\n",
              "      <td>What is the average salary?</td>\n",
              "      <td>UgxQ1EqJ4CyNODDVbGh4AaABAg</td>\n",
              "      <td>http://www.youtube.com/channel/UCv8KHbiZB_8XCB...</td>\n",
              "      <td>R</td>\n",
              "      <td>0</td>\n",
              "      <td>0</td>\n",
              "      <td>2022-01-20 10:13:03+00:00</td>\n",
              "      <td>fmLPS6FBbac</td>\n",
              "      <td>0</td>\n",
              "      <td>Become a DATA ANALYST with NO degree?!? The Go...</td>\n",
              "      <td>2022-01-20</td>\n",
              "    </tr>\n",
              "    <tr>\n",
              "      <th>1</th>\n",
              "      <td>1</td>\n",
              "      <td>Hi. What do you recommend For stata ana spss? ...</td>\n",
              "      <td>UgzrOyzgK26L2aqZ3xN4AaABAg</td>\n",
              "      <td>http://www.youtube.com/channel/UCG0CKDnotgl_L1...</td>\n",
              "      <td>Cristina Acuña</td>\n",
              "      <td>0</td>\n",
              "      <td>0</td>\n",
              "      <td>2022-01-20 05:29:58+00:00</td>\n",
              "      <td>U4vh2EClJic</td>\n",
              "      <td>0</td>\n",
              "      <td>DON'T get a Mac for Data Science?? - MacOS Vs....</td>\n",
              "      <td>2022-01-20</td>\n",
              "    </tr>\n",
              "    <tr>\n",
              "      <th>2</th>\n",
              "      <td>2</td>\n",
              "      <td>to talk about my self , i started university w...</td>\n",
              "      <td>UgxSbCkZnhvu64wrtBx4AaABAg</td>\n",
              "      <td>http://www.youtube.com/channel/UC9HXpWGFSYmI-S...</td>\n",
              "      <td>jay Joshi</td>\n",
              "      <td>0</td>\n",
              "      <td>0</td>\n",
              "      <td>2022-01-20 04:58:33+00:00</td>\n",
              "      <td>GmTD-MBea_E</td>\n",
              "      <td>0</td>\n",
              "      <td>Day in the life of a data analyst</td>\n",
              "      <td>2022-01-20</td>\n",
              "    </tr>\n",
              "    <tr>\n",
              "      <th>3</th>\n",
              "      <td>3</td>\n",
              "      <td>#1 skill is learning how to identify what the ...</td>\n",
              "      <td>Ugxl35Ey3w9Of63Xh1p4AaABAg</td>\n",
              "      <td>http://www.youtube.com/channel/UCFqPt4Hyfyxp0x...</td>\n",
              "      <td>Kaden</td>\n",
              "      <td>0</td>\n",
              "      <td>0</td>\n",
              "      <td>2022-01-19 21:34:04+00:00</td>\n",
              "      <td>CC66RXeTn_4</td>\n",
              "      <td>0</td>\n",
              "      <td>How I Would Learn to be a Data Analyst</td>\n",
              "      <td>2022-01-19</td>\n",
              "    </tr>\n",
              "    <tr>\n",
              "      <th>4</th>\n",
              "      <td>4</td>\n",
              "      <td>Buying an exorbitantly priced Mac to end up ru...</td>\n",
              "      <td>UgyrL_pX9oGEr9mBLmJ4AaABAg</td>\n",
              "      <td>http://www.youtube.com/channel/UCDwgYFlYNDJqDe...</td>\n",
              "      <td>Ameri Kano</td>\n",
              "      <td>0</td>\n",
              "      <td>0</td>\n",
              "      <td>2022-01-19 20:35:52+00:00</td>\n",
              "      <td>U4vh2EClJic</td>\n",
              "      <td>0</td>\n",
              "      <td>DON'T get a Mac for Data Science?? - MacOS Vs....</td>\n",
              "      <td>2022-01-19</td>\n",
              "    </tr>\n",
              "  </tbody>\n",
              "</table>\n",
              "</div>\n",
              "      <button class=\"colab-df-convert\" onclick=\"convertToInteractive('df-86164385-7868-4f78-b964-68bf5b852ed4')\"\n",
              "              title=\"Convert this dataframe to an interactive table.\"\n",
              "              style=\"display:none;\">\n",
              "        \n",
              "  <svg xmlns=\"http://www.w3.org/2000/svg\" height=\"24px\"viewBox=\"0 0 24 24\"\n",
              "       width=\"24px\">\n",
              "    <path d=\"M0 0h24v24H0V0z\" fill=\"none\"/>\n",
              "    <path d=\"M18.56 5.44l.94 2.06.94-2.06 2.06-.94-2.06-.94-.94-2.06-.94 2.06-2.06.94zm-11 1L8.5 8.5l.94-2.06 2.06-.94-2.06-.94L8.5 2.5l-.94 2.06-2.06.94zm10 10l.94 2.06.94-2.06 2.06-.94-2.06-.94-.94-2.06-.94 2.06-2.06.94z\"/><path d=\"M17.41 7.96l-1.37-1.37c-.4-.4-.92-.59-1.43-.59-.52 0-1.04.2-1.43.59L10.3 9.45l-7.72 7.72c-.78.78-.78 2.05 0 2.83L4 21.41c.39.39.9.59 1.41.59.51 0 1.02-.2 1.41-.59l7.78-7.78 2.81-2.81c.8-.78.8-2.07 0-2.86zM5.41 20L4 18.59l7.72-7.72 1.47 1.35L5.41 20z\"/>\n",
              "  </svg>\n",
              "      </button>\n",
              "      \n",
              "  <style>\n",
              "    .colab-df-container {\n",
              "      display:flex;\n",
              "      flex-wrap:wrap;\n",
              "      gap: 12px;\n",
              "    }\n",
              "\n",
              "    .colab-df-convert {\n",
              "      background-color: #E8F0FE;\n",
              "      border: none;\n",
              "      border-radius: 50%;\n",
              "      cursor: pointer;\n",
              "      display: none;\n",
              "      fill: #1967D2;\n",
              "      height: 32px;\n",
              "      padding: 0 0 0 0;\n",
              "      width: 32px;\n",
              "    }\n",
              "\n",
              "    .colab-df-convert:hover {\n",
              "      background-color: #E2EBFA;\n",
              "      box-shadow: 0px 1px 2px rgba(60, 64, 67, 0.3), 0px 1px 3px 1px rgba(60, 64, 67, 0.15);\n",
              "      fill: #174EA6;\n",
              "    }\n",
              "\n",
              "    [theme=dark] .colab-df-convert {\n",
              "      background-color: #3B4455;\n",
              "      fill: #D2E3FC;\n",
              "    }\n",
              "\n",
              "    [theme=dark] .colab-df-convert:hover {\n",
              "      background-color: #434B5C;\n",
              "      box-shadow: 0px 1px 3px 1px rgba(0, 0, 0, 0.15);\n",
              "      filter: drop-shadow(0px 1px 2px rgba(0, 0, 0, 0.3));\n",
              "      fill: #FFFFFF;\n",
              "    }\n",
              "  </style>\n",
              "\n",
              "      <script>\n",
              "        const buttonEl =\n",
              "          document.querySelector('#df-86164385-7868-4f78-b964-68bf5b852ed4 button.colab-df-convert');\n",
              "        buttonEl.style.display =\n",
              "          google.colab.kernel.accessAllowed ? 'block' : 'none';\n",
              "\n",
              "        async function convertToInteractive(key) {\n",
              "          const element = document.querySelector('#df-86164385-7868-4f78-b964-68bf5b852ed4');\n",
              "          const dataTable =\n",
              "            await google.colab.kernel.invokeFunction('convertToInteractive',\n",
              "                                                     [key], {});\n",
              "          if (!dataTable) return;\n",
              "\n",
              "          const docLinkHtml = 'Like what you see? Visit the ' +\n",
              "            '<a target=\"_blank\" href=https://colab.research.google.com/notebooks/data_table.ipynb>data table notebook</a>'\n",
              "            + ' to learn more about interactive tables.';\n",
              "          element.innerHTML = '';\n",
              "          dataTable['output_type'] = 'display_data';\n",
              "          await google.colab.output.renderOutput(dataTable, element);\n",
              "          const docLink = document.createElement('div');\n",
              "          docLink.innerHTML = docLinkHtml;\n",
              "          element.appendChild(docLink);\n",
              "        }\n",
              "      </script>\n",
              "    </div>\n",
              "  </div>\n",
              "  "
            ],
            "text/plain": [
              "   Unnamed: 0  ...   just_date\n",
              "0           0  ...  2022-01-20\n",
              "1           1  ...  2022-01-20\n",
              "2           2  ...  2022-01-20\n",
              "3           3  ...  2022-01-19\n",
              "4           4  ...  2022-01-19\n",
              "\n",
              "[5 rows x 12 columns]"
            ]
          },
          "metadata": {},
          "execution_count": 3
        }
      ]
    },
    {
      "cell_type": "code",
      "source": [
        "print('Le dimensioni del dataset sono: ' + str(df.shape))\n",
        "print('Nel dataset sono presenti '+ str(df.vid_title.nunique()) + ' video diversi')\n",
        "print('In totale gli utenti che hanno commentato i video sono ' + str(df.author_name.nunique()))"
      ],
      "metadata": {
        "colab": {
          "base_uri": "https://localhost:8080/"
        },
        "id": "XoQbW9ll34VT",
        "outputId": "b67614b0-9c8f-441a-c641-76b215c279ce"
      },
      "execution_count": 4,
      "outputs": [
        {
          "output_type": "stream",
          "name": "stdout",
          "text": [
            "Le dimensioni del dataset sono: (4975, 12)\n",
            "Nel dataset sono presenti 65 video diversi\n",
            "In totale gli utenti che hanno commentato i video sono 4017\n"
          ]
        }
      ]
    },
    {
      "cell_type": "markdown",
      "source": [
        "Nel dataset non sono presenti valori mancanti:"
      ],
      "metadata": {
        "id": "-kYg0B-Bqkb0"
      }
    },
    {
      "cell_type": "code",
      "source": [
        "df.isnull().sum() # check dei valori mancanti"
      ],
      "metadata": {
        "colab": {
          "base_uri": "https://localhost:8080/"
        },
        "id": "ddJN9uMjQaDm",
        "outputId": "b433df18-785f-4454-a2f8-d7accae7bec6"
      },
      "execution_count": 5,
      "outputs": [
        {
          "output_type": "execute_result",
          "data": {
            "text/plain": [
              "Unnamed: 0            0\n",
              "comment               0\n",
              "comment_id            0\n",
              "author_url            0\n",
              "author_name           0\n",
              "reply_count           0\n",
              "like_count            0\n",
              "date                  0\n",
              "vidid                 0\n",
              "total_reply_counts    0\n",
              "vid_title             0\n",
              "just_date             0\n",
              "dtype: int64"
            ]
          },
          "metadata": {},
          "execution_count": 5
        }
      ]
    },
    {
      "cell_type": "markdown",
      "source": [
        "## Costruzione del grafo"
      ],
      "metadata": {
        "id": "6_1zowEh5I4p"
      }
    },
    {
      "cell_type": "markdown",
      "source": [
        "Innanzitutto vengono generate le liste *videos* e *authors* contenenti, rispettivamente, i titoli dei video dei canali youtube ed i nomi degli autori dei commenti."
      ],
      "metadata": {
        "id": "K0bGISTJqueL"
      }
    },
    {
      "cell_type": "code",
      "source": [
        "videos = [] # lista con i titoli dei video\n",
        "authors = [] # lista con gli autori dei commenti\n",
        "for i in df.vid_title.unique():\n",
        "  videos.append(i)\n",
        "for k in df.author_name.unique():\n",
        "  authors.append(k)\n",
        "print(len(videos), videos) # check della numerosità\n",
        "print(len(authors), authors) # check della numerosità"
      ],
      "metadata": {
        "colab": {
          "base_uri": "https://localhost:8080/"
        },
        "id": "AgD7lAnbAuHl",
        "outputId": "cb98eec9-27d3-411a-b2be-377b598e1e58"
      },
      "execution_count": 6,
      "outputs": [
        {
          "output_type": "stream",
          "name": "stdout",
          "text": [
            "65 ['Become a DATA ANALYST with NO degree?!? The Google Data Analytics Professional Certificate', \"DON'T get a Mac for Data Science?? - MacOS Vs. Windows\", 'Day in the life of a data analyst', 'How I Would Learn to be a Data Analyst', 'Get a JOB w/ Google Data Analytics Certificate?!? (ft. Certificate Holders)', 'BEST JOBS in Data Science', 'Power BI vs Tableau - Best BI Tool', 'Top Courses to Become a Data Analyst', 'M1 Max/Pro vs M1 Macbook for Data Science.... should you?!?', 'M1 Chip is as FAST as M1 Max!!! 🤯  (13\" Mac Air Vs. 14\" Mac Pro) #shorts', 'Why you should NOT be a Data Analyst', 'Use THIS to showcase EXPERIENCE in Data Science', 'Install your favorite Windows app on M1 Mac - ft. Parallels', 'STOP using Spreadsheets for Everything!', 'Standout as a Data Analyst with THIS TOOL', 'Data Scientist vs Data Analyst (funny!)', 'Data Analyst vs. Engineer Vs. Scientist (funny!)', 'Python Vs R (funny!)', 'M1 Macbook Air vs Pro (8 vs 16 GB) for Data Science', 'Learn PYTHON to be a DATA ANALYST?!? (or is R enough...)', 'Get NOTICED in Data Science!!! (3 types of GREAT projects)', 'Parameters (Create & Use in Calculated Fields and/or Visuals) - Tableau Tutorial P.7', 'THIS got me my job as a Data Analyst - My portfolio tip', 'How to show EXPERIENCE... when you have NONE?!?', 'Transition into Data Science - My Tips & Story', 'Mac Vs PC - BEST for Data Science', 'Staying Motivated in Data Science', 'Google vs IBM Data Analyst Certificate - BEST Certificate for Data Analysts', 'How NOT to learn Python for Data Science', 'Data Science - Expectation vs Reality (funny!) - ft. @Ken Jee', 'Python Project  - COUNTING MY BIKE JUMPS!!', 'Python For & While Loops for Data Science / Data Analysis - P.3', 'Windows on the M1 Mac - What are your options?', 'Install Python for Data Science on Mac & Windows (PC) with Anaconda - P.1', 'M1 vs Intel Mac for Data Science', 'Certificates vs Degree for Data Analysts (ft. Google Data Analytics Professional Certificate)', 'Building a bot to scrape job data… How NOT to collect data', 'Connect Google Sheets to Tableau & Joining Data - Tableau Tutorial P.1', \"Data Analyst's WFH Setup & Upgrades\", 'How I learn Data Science as a Data Analyst #shorts', 'How To Use Tableau Desktop Controls - Tableau Tutorial P.2', 'Python If Statements for Data Science / Data Analysis - P.2', 'Lambda Functions for Data Science / Data Analysis - Python P.6', 'How to get Data Analytics side jobs - NEW LinkedIn Feature  #shorts', 'Install VS Code with Python for Data Science / Data Analysis - P.3', 'Python List Comprehension for Data Science / Data Analysis - P.4', 'The BIGGEST MISTAKE when starting a data project!', 'Python for M1 Mac vs Intel (SPOILER: M1 is 2x faster)', 'Understanding Virtual Environments for Data Science / Data Analysis - P.4', 'Using VS Code with Python for Data Science / Data Analysis - P.5', 'How to run Python for Data Science - Editors vs IDEs - P.2', 'Python Objects frequently used in Data Science / Data Analysis - P.1', 'Upload your dashboard to Tableau Public  - Tableau Tutorial P.10', 'Python Functions for Data Science / Data Analysis - P.5', \"Python for Data Science / Analysis  ft. 'The Office' Dataset - P.0\", 'How To Create a Dashboard - Tableau Tutorial P.9', 'Calculated Fields in Tableau (Formulas & IF Statements) - Tableau Tutorial P.6', 'Data Science shortcuts for Mac', 'Create Stacked Bar Chart (and any other visuals EASILY!) w/ Show Me! - Tableau Tutorial P.4', 'M1 vs Intel Mac for Python #shorts', 'Dimensions Vs Measures  (Blue Vs Green Data) - Tableau Tutorial P.3', 'Top Non-technical Skills for Business Intelligence', 'What is Business Intelligence (BI)? #shorts', 'Totals, Average Lines, & Trend Lines (Analytics Pane) - Tableau Tutorial P.8', 'Conditional Format Tables in Tableau (Like Excel!) - Tableau Tutorial P.5']\n",
            "4017 ['R', 'Cristina Acuña', 'jay Joshi', 'Kaden', 'Ameri Kano', 'Wadud Khan', 'CHITUS💖⸻⸻⸻⸻⸻⸻⸻⸻⸻⸻⸻⸻⸻⸻⸻⸻⸻⸻⸻⸻⸻⸻⸻⸻⸻⸻⸻⸻⸻⸻⸻⸻⸻⸻⸻⸻⸻⸻⸻⸻⸻⸻', 'Adrian Ford', 'Adam Hudson', 'guiseppehammer', 'fernleaf1', 'Ashish Singh', 'Tucker Stachitas', 'Temitope Kekere', 'HoneyChai', 'DoonSpades', 'sskylark _', 'Canedo', 'El_Shaddai Fire Ministries, South India.', 'Roopmathi Gunna', 'Crystal Collins', 'Sam Guy', 'Marcin Kacprzyk', 'Daniel Hallam', 'inveele', 'Germano Vieira', 'Vikram', 'Benjamin Alva Tinoco', 'Entertainment 4 YOU', 'Karat Kravat', 'Paul Corey', 'TheSweetAmy0', 'Geeksy', 'Ayanah A. J.', 'grainofsalt', 'tohameem', 'Adilson V. Casula', 'Arzoo Singh', 'Sarthak Joshi', 'Jonny Oliveira', 'Hamid Omar', 'Josh Babin', 'dinhquy', 'SP1D3Y TH3 DR1PG0D', 'Randy', 'S', 'Gabriel Samayoa', 'Pedro Ewert', 'user12345654', 'SSD News', 'Travis Fubu', 'Design Zone', 'Senthil kumar', 'Tina Huang', 'ThrdCardofDeath', 'Nick', 'MrBaggieBug', 'AlanNotEmo', 'Joanna Sowa', 'Goldilocks Zone', 'Cris McDonough', 'Rob', 'Caribou Data Science', 'A K M Zahidul Islam', 'Shashank Kalanithi', 'Seattle Data Guy', 'Jonathan', 'p s', 'James and Tech', 'Kedeisha Bryan', 'Vladimir Milchev', 'Zoe Ethio Media', 'Muhammad Yasir', 'benjamin4206', 'Emanuel Retamozo', 'Denver Maburutse', 'Steve Etches', 'Babak Firoozi Fooladi', 'Akash Singh', 'fredericoamigo', 'Muhammad Faris Herlansyah', 'shreyash agrawal', 'Prabh Saini', 'Robert Pereira', 'Harrisman Rinaldy', 'Name', 'SimpleFit', 'Baptiste Giannesini', 'sarah lazri', 'Gregory Horne', 'kathycrc', 'Siddhesh Abnave', 'RUDRO ROY', 'Thu Vu data analytics', 'Ken Jee', 'Noah Sanchez', 'trav is dead', 'Aditya Singh', 'twoodcc', 'Yafeth T.B', 'John Flood', 'Luke Barousse', 'Serhii Knut', 'Augustine Lee', 'Kuntal Mukherjee', 'Jordan Martinetti', 'José Ángel Medina Cornejo', 'Aimenya Ugba', 'ROSDELL D OUMA', 'Lanjut Ehem', 'david miller', 'Abdul Wahab', 'Mamadou Assane Diop', 'Ryan Mercer', 'Go UNC', 'Brenton Collins', 'my Entertainment', 'tonepoet', 'Nathan Brown', 'kamoah jo', 'Krzysztof', 'Sérgio Afonso', 'Reid Flood', 'Lan Nguyen', 'Xavier Paquin', 'Gam Iyed', 'Bouseux Latache', 'Remi Jamal Aldin', 'Albert Bellamy', 'Alejandro Gómez', 'Mario', 'Spryzen573', 'prime time', 'Atif Shah', 'Atul Krishnan', 'That boy Martinii', 'Segun Victor Awoma', 'Jorel Paloma', 'Nishant Jain', 'Paramesh Karamsetty', 'Jordan Patrick-James', 'Dlayne Blair', 'Ayo Omojola', 'moofymoo', 'Ahmed Nagy', 'Big PP', 'John146 John316', 'Lamb', 'Gabriel Abiodun', 'Daryl Onil Bautista', 'Kim Hightower', 'TheBlackMage3', 'Hari', 'cmfrtblynmb', 'Ying chi Wu', 'Rapha Carpio', 'Siri mora', 'Shoaib Kahut', 'Reck less_1996', 'RunOs', 'Saul Espinoza', 'Robby Dobby', 'Youssef Ballout', 'Alexander Stelmach', 'Martinus Moretti', 'Lucas Álvarez Lacasa', 'L p', 'Wren', 'Tal BN', 'Food at Home PH', 'Muhammad SamiR', 'raju naidu', 'Trang Le', 'Aditya Randhawa', 'DataSkull', 'Ren M.', 'AKSHAY WARE', 'Zebedee Motivations', 'Ninja Turtle', 'Vigneshwar Ambalavanan', 'yxzfocus', 'Daniele Galati', 'noobwow2009', 'Bradley Beauclair', 'Francesco Varrato', 'val jo', 'Luis Auza', 'R M', 'Tex MJM', 'n!tromy', 'Eduardo Leonardo', 'Ks Patel', 'Suresh G', 'Sourav Laga', 'Makarand Pingle', 'Travis Beard', 'fabian guthrie', 'Michael Duncan', 'Roozbeh Valavi', 'Subash C', 'Eric Booth', 'Sergio Villa', 'Ghizlane B.', 'Robin', 'AA', 'Shadow Stock', 'Evan Dweck', 'Adebola Akinmulewo', 'Jake', 'Bob Goodi', 'xxxamuchixx', 'JohnPaul Bertiz', 'Christian Silos', 'Sabyasachi das', 'Matheus Moreno', 'Ben', 'Steve T', 'MD Fakhruzzaman Sarkar', 'Jonny Bingham', 'CyclonePlayzRoblox', 'Robertino', 'Michael Wirth', 'Kourtney Albert', 'Jason Reardon', 'Remigiusz Bednarczyk', 'Supply Science', 'Shafique Ahmed', 'Giang Phạm', 'Dylan S', 'Srujan Kumar', 'nerv', 'Anirudh Sripathi', 'G G', 'Erica G.', 'Christian Chanco', 'gequitz', 'grif5332', 'Rafael Grigorian', 'Raphael Ogwu', 'Jia Wang', 'Balakrishna Prasad', 'curious aadi', 'Rafaey Tariq', 'Dr_Amir', 'life is beautiful', 'Adán', 'Ricardo López-Herrera', 'Michael Cain', 'David Sprick', 'Tharindu Dhananjaya', 'Gemy', 'Mell', 'Mind Hacker', 'STUDY', 'Phil Nance', 'Kobe Ewusi', 'Shubham Dhiman', 'nrc610', 'Nicoue Kuete', 'James Brown', 'Marcel Eko', 'Konstantinos Volikakis', 'Data Professor', 'Syamil Lim', 'Swastik GH', 'sanjay bhatikar', 'Alexander Knowles', 'deleuje', '1980Arend', 'Awais Khan', 'Paulas Picks', 'Andrew Ign', 'Nathan Wallace', 'Chude Okechukwu', 'MsImaginative', 'scoodles93', 'David De Vita', 'A.N S.A', 'Biswanath Saha', 'Abhishek Kanani', 'Sohini Mukherjee', 'Taylor Downes', 'Harbinder Singh', 'Bastian Castro R.', 'Vinícius Sodré', 'Everth', 'Weslley', 'Jake Snyder', 'Mehul Kumar Bauskar', 'Jorge Rodriguez Castillo', 'Pamela Del Orbe', 'Chow Owen', 'Rick Does AI', 'Ponto e Vírgula', 'Vinit Mittal', 'Alvaro Tinoco Vargas', 'Benny A', 'Jeremy Yap', 'Hasan Eren AYDIN', 'Антон Чаплыгин', 'Subhash Singh', 'MultiFPSFan', 'Инь Ян', 'MrTurtleneck', 'Marc Lacroix', 'Bolanle', 'Marko Balazevic', 'human being', 'Monia Nani', 'Sami Sheikh', 'Baishnabi Jena', 'Nezar Saleh Hassan', 'Btkdrd', 'washy taona', 'Ivan Zaitsev', 'Andrea', 'Yomi Olaoye', 'Haidar Doueh', 'OJIULUIJO', 'Venkata Chandra Shekar Rao', 'ANDY CHEN', 'uchechukwu mazi', 'Josh Payne', 'Sara Bernard', 'Jorge Aldana', 'لطفي أحمد الطوخي', 'Patriotic American', 'Predator', 'Quinn Krug', 'Han', 'B L', 'shubham negi', 'Devendra Kumar Meena', 'slimy mcbrazy', 'Rohan Anand', 'Qasim Javed', 'Ankit Mehta', 'Sabrina E.', 'norman reedus', 'mr.AhmadAli', 'Aayush Shah', 'Akzork', 'SparkySquier', 'ivan', 'Nicholas G', 'Maica Tran', 'Aysha Batool', 'M. Reda', 'Jonathan Sánchez', 'Lambda Citizen', 'Sam Felix', 'Liana Yousef', 'Patrick C', 'Mobile Gaming', 'Faldy Antono', 'Max Ruso', 'Jemil', 'Tommy Squarzo', 'love 2015', 'English vocabulary', 'vernita325', 'Harry Bering', 'Andrew', 'Joseph Tran', 'Ahtesham Ul Haq', 'Kunal Ghosh', 'kekkaigenkei', 'Ivo Elenkov', 'Butan', 'Aakash Raj', 'Vaibhav Mishra', 'Abdul Rahman Mohsen', 'Marticus', 'yusufrocks76', 'john dewey', 'madara uchiah', 'jbrandt', 'D. C.', 'Brad Kevin', 'Andrew Nguyen', 'Spence Daniels', 'Tom B', 'Nikica Roksandic', 'RainbowSunshineKitty', 'Kolade', 'Mohammed Albayati', 'Anthony Burns', '434 Sahil Shrivastav', 'Syafiq Ashraff', 'Abdifatah WebDeveloper', 'Sam Lin', 'Étienne', 'Anna Meredith', 'Alex del Real', 'Nate Georgy', 'Abdelrhman Dameen', 'Daniel Sutherland', 'Jared T', 'Jorge Mendoza Rivilla', 'Evacody124', 'Mhamd King', 'Xavier', 'Arpit Sarkar', 'Ethereal Luna', 'Naeem Ullah', 'chinmothy', 'Original Kundukulangara', 'selective eagle', 'Matias B.', 'Shaddia Morris', 'Steffo T', 'Ayan Ali', 'Peter', 'Minh Đức Review', 'Robert Anderson', 'Md. Rasel Mahmud', 'rEvolver', 'Javid Hesenov', 'Abhishek', 'Aditya Ojha', 'chad watkins', 'Imorame Jennifer Omonoh', 'Marcio Iunes', 'belvedere416', 'Doug Murphy', 'Patrick Aldrich', 'Bobby _', 'YouTryna Smash', 'Funmi Aina', 'Pig Head', 'João Vitor Pinheiro Ocker', 'DataStack', 'AdoboTravels', 'modoulamin ceesay', 'Michael Sulit', 'Aasi H', 'Yassine Itani', 'NJMANGA', 'Obaid Nas', 'Daniel Hernandez', 'Keslo', 'MK', 'J spark', 'Arjun S', 'Shehroze Bahadar', 'Muaad', 'Juan F', 'Dániel Bruck', 'Anderson Santos', 'Alex Taranto', 'Master Procrastinator', 'Chac Mool', 'Shubhankar Singh', 'Vishwanath A sardeshpande', 'ken swanky', '#umadchet ?', 'Mikayel N', 'YEI Marbella', 'Rommer Orquiza Chu', 'David G.', 'Back To I.T.', 'Huy Gia', 'Yash Luharuka', 'Oscar Sheen', 'Domo', 'Samuel Oyegunle', 'Karim Farghaly', 'Vijay Ajwani', 'anti god', 'Daksh Bhatnagar', 'XDogeee', 'Subhathra G', 'Maxime Gagné', 'Groud Frank', 'K. Wiset', 'anilkumar kasuba', 'Sarah Mestiri', 'Adegames', 'Kamran Emami', 'Konstantin Radu', 'Dr. Kabe Sadu Meup-Al', 'aycaniwaterfall', 'Danie Bello', 'Blurry', 'KHEDER AL-OTHMAN', 'Javier García Prieto', 'Partho KR', 'Lemonade', 'Aladeen', 'Orlando', 'SYED SHAJEE HASSAN', 'kipmud', 'Beach Living', 'French Bakers', '王阿天', 'Daniel Carr', 'Ralph Buoncristiani', 'Z J', 'Jan Gevert', 'Sarah Ng', 'The Primordial Dude', 'Asad Kakuji', 'Long Le Ton Hoang', 'Joe Cincotta', 'Seytkhan Balikbaev', 'sheenapunky', 'born free', 'Arnav Banerjee', 'Betta the explorer', 'Smit Ruparelia', 'Dark Raven', 'Signed Turnip64', 'Paco', 'Arty S.', 'Roman Zozulya', 'DeeDee', 'ViviAndHerMac', 'Naveen Kumar', 'SegueGreene', 'OZX GAMER', 'Sumit Redu', 'Craig Ngwenya', 'The1920', 'PooBlock', 'Alex Galvan', 'Nicky Keefer', 'username', 'tɦɛ ɨʀօռɨċ ʍɨsaռtɦʀօքɛ»', 'automanie', 'Donovan Bryant', 'serge bureau', '650rcr', 'Ana Lisa Melojete', 'Damsel in Data', 'Mark Olsen', 'Sivakrishna T', 'Anna', 'Juan Lobos Martin', 'Devon Peters', 'Abdullah', 'Iraj Matthee', 'JohnCena', 'John Smith', 'anirudh atole', 'Ruonan ZHENG', 'Kalyan Karumudi', 'Saffffffff', 'Anish Panchal', 'Shea L', 'rosaliop81', 'Obed Contreras', 'Mbali Mols', 'sanjay sharma', 'Tha Bridge', 'Laxya Berde', 'Gold & Bitcoin', 'Edith Mokwe', 'Valentin Schmidt*', 'Jason T. Rogers', 'Marco Portillo', 'Felipe Pesantez', 'Soomela Moosa Moghadam', 'John Ellison', 'Sibi Vishtan', 'Deceptive facade', 'Quimbly Jones', 'Atul Anand', 'PLO God', 'Tilek Abdilazim', 'INKADDICTZ', 'Ritika Jaiswal', 'the end', 'The Towelie', 'R W', 'Bukhari kibuka القارئ الأغندي', 'DarkTealGlasses', 'Gerard Clarke', 'jerry ramos', 'mohit malhotra', 'FPrime', 'Cara Ziegel', 'Subhi Youssef', 'John W', 'ㅇㅋㅋㅋ', 'Alex Ziskind', 'Jakob Adams', 'James Paz', 'modulargrowth', 'Chulo', 'Beau Long', 'Luis Francis', 'Brian Case', 'Karthik Balu', 'Hunter Reilly', 'Youness BAHI', 'mahyar akbari', 'SHIROI HAKO', 'Sameer Khan', 'Syn 24app', 'Langdon', 'A K', 'Nick DePalma', 'Rodion Yangirov', 'Walid Ag', 'Ibraheem El Ansari', 'Tyrell Robertson', 'Aakash Gohil', 'Myo Tun', 'Daniel Caley', 'Navid Abasi', 'sai madhusudanan', 'Andrew McKeown', 'hack books', 'imi imane', 'chaz', 'Lunn Sitlhou', 'elrazor', 'mrbonzzai', 'ammar abbas', 'rhythmicwarrior', 'Heila Paulino', 'Kim Lindfors', 'Aadinath Bongirwar', 'Kshitij Tiwari', 'clerp', 'Gaurav Tandel', 'R B', 'Ajayi Oluwaseun', 'Trading Only', 'redmash beats', 'Ala Abaallah', 'Orakan K.', 'Mats Skjærvik', 'Story Genix', 'Usama Khan', 'SixtyFive Roses', 'Kararch', 'Domsta333', 'Avishek Chakraborty', 'da biz', 'Khesraw N', 'Kyle Jones', 'nikhil pandey', 'Ivan Vrzogic', 'Jordan Hughes', \"I don't know\", 'Fernando Urrutia', 'Maakhe', 'Arthur Miller', 'mrfher', 'Berrin Ornek', 'Maxime en TSI', 'Elite Business Club', 'Laura Filipe', 'Gorkem Tunc', 'blank', 'Afifa Rahman', 'Arun Dharmaraj', 'Sidhant Gi', 'FaraaZ', 'random viewer', 'mustafa ocal', 'Claudio Benjamin Osorio', 'Sean Kennedy', 'Kelvin Waters', 'Hoda elfi', 'Boris Dimov', 'Lehlogonolo Mabetoa', 'Majestic W', 'Damian Wójcikiewicz', 'Troy Neilson', 'Ja Mu', 'Linolium', 'theory816', 'Fariborz Soroush', 'Pauline Tan', 'Good To Know', 'Akash Bhanu Parida', 'Mj _', 'حسان ونس', 'Amr Ghabbour', 'xk derhaka', 'Agustin Zavagnini', 'Yav Jar', 'candidly vivian', 'Aurélie Mazet', 'Anthony Tumiwa', 'Mei Suci', 'Rabiraj Banerjee', 'Adam Lamb', 'Natasha Nalyaka', 'Sundas Khalid', 'Sam Serdah', 'Debjyoti Banerjee', 'S K', 'Ahmed Sellak', 'warren dixon', 'ASO', 'Abe Diaz', 'Mohammad Raiyaan', 'Michael', 'Tarush Sharma', 'Humble Insanity', 'Aliyah Abdul-Wakil', 'ravi raj', 'Tapiwa Wakatama', 'Seeker J', 'K Seven', 'HectorBanks D', 'Stuart Hys', 'Neâ Nayduu', 'michael lee', 'Cookie', 'luis zimmermann', 'Md Hidayat', 'Belen ZG', 'Goinggoinggone123', 'Sanat Roy', 'Edward Chan', 'chris martin', 'Dung Thùy', 'Waheed Stambuli', 'Welbert Carvalho', 'Kyle Lombardo', 'Daniel Fernandes', 'techTFQ', 'Sipho Lukhele', 'Arnold Kabuya', 'Saidur Rahman', 'Deepti Shrivastav', 'Faouzi Bounoua', 'Ahmed Buhassan', 'Kgothatso L. Hosie', 'Mehedi Azad', 'Robert Tiong', 'Abanoub BOB', 'Dario Saturni', 'John Atef', 'Carl', 'A C', 'Lydia Love', 'Justin Justin', 'One & Only', 'Dan Costin', 'Dawit Kassa', 'Atika Amsir', 'Sound Land', 'Santanu Bandyopadhyay', 'asterisk confidential', 'Zolac', 'Trinity', 'Sreeraj.design', 'sakshi sable', 'Almy Vblog', 'Abhishek Toppo', 'Thayná Azevedo Carvalho', 'Somer Lynn Zappe', 'Sue Stephen', 'TwoBuck Chuck', 'Manikandan Viswanathan', 'Chandrakant Doshi', 'Mike Weber', 'sagar sudan', 'KVZ009', 'Acar Arslan', 'Data Analyst', 'Ravi Smruthi', 'Sakibul Islam', 'John Russell', 'Gunnar D', 'Benny Bracewell', 'Game Lab Germany', 'Dawn H', 'Thibaud Freyd', 'abdelkrim bentorcha', 'Joe', 'Jacky Jack', 'Kaboomnz', 'avatar aang', 'NYC Person', 'honey k', 'fzakwan', 'Abhinav', 'Sunil Live', 'ASFR&FlagCommunity', 'Gabriel Chiararia', 'Rem', 'Marcelo Abadie', 'asif', 'Data Driven', 'To Cu', 'SunDevilThor', 'Kiran Sharma', 'Alex Lifu', 'Rahul Pareek', 'Jared Albin', 'Amey Sonawane', 'Ricardo Ramirez', 'Youssef Ahmed', 'Nigel Story', 'aliff nabil', 'Reuben Ofeimun', 'Ian Black', 'Marius Acsinte', 'പച്ചാളം ഫാാസി', 'Awaksica', 'Ivan M.', 'Ro', 'Gabriel Furlong', 'Ramit T.', 'Get Things Built', 'Manish Deshmukh', 'Pratik Narkhede', 'C Belgin Shajo', 'Shreyashi Chakravarty', 'Lilian Gm', 'Klaudia Pacura', 'pearappleberry', 'Oliver T.', 'saleem malik', 'Trax High', 'Jonathan Ranes', 'CPA1535', 'ryguy123', 'Pavan Chetan', 'kedoink', 'Asham Saud', 'BuildVisions4Africa', 'David Gonzalez', 'Hunter', 'APR', 'felieppe', 'orhema oluga', 'Bipin bajracharya', 'Jane Huang', 'Msizi Khanyile', 'Sajid Khan', 'Shubham Dandekar', 'Navod Janith', 'Frankietron', 'halil Tokkal', 'Tabassum Akter Trishna 092', 'Helsio Mattia', 'Syed Sirajudeen', 'GuidoSalami1', 'The Rodestarr', 'Jose Rubio', 'Luciano Lopes Lima', 'V. F.', 'Fausto Alexander Abreu Sánchez', 'The Royal One', 'Machine Mentor Shivek', 'Ayelet Kats', 'Austin Dodig', 'Sean Renzi', 'Coolshegs', 'chetu p', 'Pankaj Joshi', 'RM', 'manonamission2000', 'shashank Marneni', 'Lunistic', 'Maitreya Kanitkar', 'LIQUID SNAKE', 'Jordan Earl', 'Martin Looter', 'Anand Sriram', 'Paul Balafaï', 'Nemitri', 'rekt', 'koffiged', 'Nikhil Jose', 'yash bhatt', 'goutham karakavalasa', 'Abdiwasaa Ibrahim', 'Wassim El-Ballouli', 'aditya gawhale', 'MOHAMMED AZEEM', 'Pawel Zabicki', 'Johnny Shollaj', 'Sy Husada', 'Linmarie', 'Tyra High', 'Avishek Biswas', 'Yuvraj Bhatia', 'Mark Angelo Garcia', 'Oluwatosin Abimbola', 'ChubbyChub', 'Amit Kumar', 'Winwater刘老师', 'Mohan Bhosale', 'Ama Davies', 'i realy love you', 'Mohammed Ayoub', 'Anamul Rahman', 'Jose Champsaur S', 'sherin', 'Matt Teel', 'Caleb Hopkins', 'Christian Eric Bulagner', 'Winnifred Ik', 'Sadiq Balogun', 'Lightning Pop', 'Gabe Quezada', 'Stuart Ormiston', 'dsswooshy', 'DeeBop', 'Ask Idris Ilyas', 'Tolulope Toluwade', 'kartikey kaushik', '3 lil oz', 'Studio Azarath', 'Sudharshan Chakravarthy', 'ozan cakan', 'The Lion King', 'Stella H.', 'Varun Akarniya', 'Luc Caenen', 'Diego Olivares', 'Shawn', 'Metla agasteswara Sreenu', 'shner', 'tarun gupta', 'Vijay Kulkarni', 'MDP Michael', 'Omar Saunders', 'Eduardo García', 'Becoming Xavier', 'Josh T', 'Marco Cerrato', 'aman', 'Esther Reginald Yeboah', 'Rodrigo Torres', 'Eric Sinkovits', 'Haithem Angrimm', 'Jayson Magdamit', 'Rubén Quispe McCarthy', '20MST034 Suseendhar C', 'jr al', 'MAS Pakistan', 'Manas Datta', 'Tim 128er', 'Duy Dang', 'guims357', 'Terris Thompson', 'veronica gonzalez', 'Arthur B', 'Jacky Lee', 'Lenser de Dios', 'Shams Shaikh', 'anu raj', 'Stevan M', 'Shelby', 'Jakub Keller', 'lenni', 'Tirthankar Chakraborty', 'Mike Scherzer', 'Mahbub Khan', 'Lucas Silveira', 'Liam Harper', 'Gustavo Fernandes', 'Aaron Garcia', 'Kah Em Chu', 'Mir Monoarul Alam', 'unlink', 'Tanvi Ikhar', 'Narayan My Soul', 'Daniel Vigil', 'Luis Dotto', 'Colby Landwehr', 'MS ANW', 'Jose Perez', 'Daniel Hellerstedt', 'Alan C Mohandas', 'TIK TIK', 'Yannick R.', 'Os', 'Arunjith T', 'Ben Gardner', 'Steve Michael', 'Legend Red27', 'Jagath K R', 'John Rivera', 'BOOM BUBBLE BUST REPEAT', 'Aaa Kmm', 'yevgeniy Bondar', 'woogeimi', 'ciaran', 'Georgina Zhou', 'Dan Campos', 'Jorge Melendez', 'Maximus maxi', 'CuddlyBug', 'OscarRudnas', 'NAUFAL AZAMI', 'Prashant Goyal', 'Jose Montanez', 'Pradeep Nainwal', 'Sherman See', 'VICTOR ARESOKAN', 'nikitha jain', 'CommentWithoutBoder Libenge', 'Erin Thor', 'Vandelay Industries', 'Axie Global Scholarship', 'grod805', 'Azaz Ahmed', 'Clare Uche', 'Mr Music', 'E V', 'Sathish g', 'd2r3 krs3', 'fateh bekioua', 'Tanveer Touhid', 'Михаил Алексеевич', 'Sidharth Patel', 'Bert Scroggs', 'Renalyn De Ocampo', 'BLANCA ESMERALDA LÓPEZ VEGA', 'Lord Helmet', 'Evan Shlom', 'André Siegfried', 'Jeremy Dismukes', 'JusT cArToOnS', 'Ptn Pt', 'Ahmad Abo ElEneen', 'Krishna Joshi', 'Rick Hall', '뷰륫.뷰류륫', 'B Kumar', 'TheCardmanx', 'Tyler Hillery', 'myownflow', 'Peace Relaxation', 'saurabh yadav', 'Ayoub', 'jessica ogwu', 'Francisco Letelier', 'V Johnson', 'hüseyin danışman', 'Bufford Butters', 'Robert Spiller', 'Anna Tsybenko', 'Carolyn C', 'Mitesh Yadav', 'unique8721', 'Patryk Lewandowski', 'Nicolas Peterson', 'Udit Singh Balyan', 'Samuel Ayodele', 'Tony Ray', 'Juan Pablo Heins', 'Lamis', 'C LertZ', 'kevin laurent', 'D_Range 211', 'Siwa Buaklee', 'Umer Hameed', 'Sully', 'Aditya Khatwa', 'Karl Samuelson', 'Chris&Becky Holman', 'Mahesh Sai', 'Gaetano Maximus', 'Shameema Nishtar', 'Paul Lake', 'Newmason', 'Tchalé223 🇲🇱', 'adfbi', 'Siriyak Cr', 'Dinesh A', 'hello', 'Monica Raj', 'Muzammil Abbas', 'Dream Capture Bali', 'Tupher', 'R.C.', 'K3R3SU', 'Davi uni', 'Carlos Diaz', 'vikram vipul', 'Pradeep K', 'hemanta phurailatpam', 'Dee Douglas', 'Michael Umaña Hernandez.', 'Kiki Rizki', 'Sairam Buddiga', 'yadiki shameer', 'Binaya Paudel', 'Hamzah Sabah', 'Ofe Ariyo', 'Bruh Bruh', 'AJAY V', 'Priyanka Chaudhary', 'Calvin Li', 'Srikar Sistla', 'William Bardaji', 'Fit from Fat', 'SEXYQUIL87 TX', 'SAIDU T.H KAMARA', 'Alex Nunez', 'Micah Koenig', 'Saransh Dhar 20248', 'Achille PièVeloce', 'Salman Shah Khan', 'Great Craft', 'Ahmed Ace', 'Brandon Declercq', 'Leah L.', 'Tim W', 'Djanira Lila', 'MayPwint Phyu', 'Milo Ventimiglia', 'Atikur Rahman', 'Watermelon', 'Rohit Vashist', 'Tian Chu', 'Mahmoud Gaber', 'Diomee James', 'Vikram Salokhe', 'Rehan Manzoor', 'Kajal Khirodkar', 'Sheen Delute', 'jmisc', 'Ori Yonay', 'Ravi Kumar', 'Creator 2020', 'Angie H', 'Alex Reed', 'samm mm', \"Ok, so Let's - Code\", 'Aiman Faiz', 'Cristian Reyes', 'jianwei lee', 'Muff Lager', 'R GB', 'Yessi villa', 'Christian Rennie', 'Lucas Zhao', 'Luciano Cacciabue', 'Francis de la Cruz', 'Milindkumar Shinalkar', 'Mikhail Magbanua', 'Mohamed Elhosary', 'lilyoung j', 'Carl Rosseel', 'Moamen Abdelkawy', 'Alexis Cuntapay', 'JoeyGirlRamas', 'TTV5', 'Ron John', 'ksssb', 'Moiz RASHID', 'Chris', 'Hope W.', 'Mary Sarhoch', 'Nisarg Shah', 'Jonathan Novak', 'KoraMawin613', 'Jaysal Bhatt', 'Igor Demetrius Alencar', 'kwabena baffour', 'Kristian Stavri', 'The Work Life Man', 'Aquila TB', 'LaTonya Higgins', 'And1 Roouf', 'Briana Merino', 'Chase Eby', 'Faustin', 'LAT', '02 06', 'I K A', 'Michael Ahortor Faraday', \"Sha'kia Mobley\", 'Ephraim Insular', 'Luis Ernesto Morales Cordova', 'Jack Ingram', 'Zack Onyonka', 'Victoria Torres', 'Talha Nehal', 'Fabrizio Yannini', 'Mark Toniz', 'George Zambrano', 'Thelma Manhica', 'Shahid Raza', 'Thanatorn Inthisen', 'Maria Cunha', 'Дмитрий Иванов', 'ritwik parija', 'Pooja Chavan', 'Min G', '켄신TV', 'anas mohamed', 'Rick Binkley', 'Willian Ferreira', 'JT Good', 'Siro', 'asem fares', 'Adriaan Van Niekerk', 'Dr Amin7', 'CK Pratibha', 'Vinay Nayyar', 'Relaxing World 24', 'Nadya eddie', 'Sharan M', 'mutaween464', 'Hugo Estrada', 'Tahj Smith', 'Terry Huang', 'NiNjuTSU', 'Abhishek Sharma', 'Carlos M', 'Diego Suarez Novaes', 'Charaf Reggui', 'Sindhu Vi', 'flight risk', 'ALL In One', 'Manan shah', 'Rachael Og', 'Philip Orlando', '007Anukul', 'Jay Peterman', 'Eddie Brito', 'Michael Boyce', 'Real Talk', '132 Tanu Gupta', 'joshi1q2w3e', 'Frissdas1207', 'Ex Shenanigan', 'Navjot Singh', 'Diego del Sol', 'Justin Rowan', 'Pastor Soto', \"Kevin O'BRIEN\", 'DECKARD263354BR', 'English Talks', 'RZB', 'Mahtab Alam', 'iExpertify', 'Christian Pedigo', 'Khizar Abbasi', 'Victor Pinas Arnault', 'OnlyFps09', 'Kaylina Burch', 'M Thaha', 'keerthi kakarlamudi', 'Raghavendra', 'Shilpa Karra', 'Mathew Joseph', 'MrMosoani', 'Mr. Berry', 'Arun_kumar_Vlogs', 'Revan', 'Jessie Warain', 'EKiN0XG4MING', 'Marlon Molina', 'SHASHANK KUMAR SHAH', 'Vivek Joshi', 'Eric Bremiller', 'Software Science', 'udesh kavinda', 'Tua aut', 'myeongwol', 'Sajal Shrivastava', 'Niranjana S', 'Antonio Lima', 'Philip Phil', 'Nikhil Bhowmick', 'Rodolfo Blasser', 'Masihullah Hasanyar', 'addicted2youtub', 'SHIBBYiPANDA', 'Vishal Patel', 'piecesofme', 'TheMIS Blog', 'Hossein FaridNasr', 'HEEMMAANAV', 'Matt Lee', 'Alaknanda Agarwal', 'Yanat 79', 'Chancellor Palpatine', 'Tonik Pun', 'M Owais', 'J J', 'python 23', 'Pablo Campos O.', 'Sergey Melkumov', 'S C', 'Daniel Mateo', 'Sebastian Varela', 'Justin Akwetey', 'Jerry Tv', 'Varun Mistry', 'abhishek sharma', 'Cris Olivares', 'Jazmeyne', 'Raghave Shukla', 'Rashawn Howard', 'Bhanu Tez', 'Michael Vuong', 'Janak Chetri', 'Arvind S.P', 'Bayesian Factory', 'Philip Lucas', 'Tosin Harold Akingbemisilu', 'strangeReview', 'Glenn Startin', 'Jorge D. Lopez', 'Pedro Oliveira', 'Fnartprod', 'SorinsWonderland', 'Gabriel Hernandez', 'HollywoodSmiles', 'Israel de Andrade', 'Carina Pauline Capa', 'ViceroyOP', 'Clement Gitonga', 'Hendry Wijaya', 'Jainil Gosalia', 'Naiemaa', 'CS', 'TimVibes', 'Samuel Yejan', 'Eli Gorniak', 'Moon', 'TheGrid', 'Rako Hasan', 'first name', 'Daniil G', 'Wylie Hampson', 'smart trance', 'Wilson Aguilar', 'Osaretin Aigbekaen', 'Bruno Interlandi', 'Waqas Qureshi', 'nctarheel0619', 'Jackyvens Camille', 'Eyal gazit', 'humano anónimo', 'Venu Gopal', 'Bharath G', 'Kazuo Harrison', 'Fall season ', 'Leone Ranger', 'Debadri Mondal', 'Max Mi', 'Suelen Cristina', 'Flor_de_Oro', 'denden 28', 'Learner Learner', 'Mohamed Hassanin', 'Rakesh Ranga', 'L Alexander', 'Alex Crofoot', 'Subiksha Subramani', 'Lord of the Jungle', 'Yuvraj Kumar', 'Nagib Aziz', 'Zai Fonnn', 'Naman Bader', 'Laxmi Gupta', 'Eric Lopez', 'Akshay Narshi', 'Jenish Zinzuvadiya', 'Tú Nguyễn', 'Guy Thompson', 'Jannon Flores', 'Wilander Cruz', '222LoneWolf', 'Vamsi Nath', 'Dwi Puspita Sari', 'Xin Xiong', 'Freemusic -for content creators', 'Lucjan Lejkowski', 'Mohannad Alhariri', 'Sidramesh Patil', 'Citla', 'BXJacky', 'Chris Zimmer', 'Dr. Merlot', 'milling37', 'Celio Kuhnen', 'Sheikh M Younas', 'Jesus Alejandro', 'Paresh Patil', 'jibi jacob', 'Nightfox Blackmamba', 'Bruce Wayne', 'Rohan Ayush', 'NAI MA', 'Justin', 'Zainab Briouga', 'Ik1Wetniet', 'Juan David', 'ashok guptha', 'StrataScratch', 'L W', 'Akaitab Das', 'Charles Nana Kwakye', 'Brad W', 'T4037-Kiran M P', 'Luke C', 'Thomas Landrum', 'Peter Hontaru - Piano Progress', 'Boalovesme', 'Xingkai Wu', 'Jose M Mendez', 'S E', 'Astrid D.', 'Naman Gala', 'mysrsk', 'Helikopter Helikopter', 'Akshay', 'ravmeet singh', 'Sankai VOX', 'Saad khurram', '如一 杨', 'Thành Nguyễn', 'Janindu Supun', 'Anime Fever', 'ILYan', 'Mint Tech Lab', 'THEO NG', 'UK TRUST MUSIC', 'Viresh Mohan', 'Shashank Kelkar', 'Mostafa Choudhury', 'Yogi eswar', 'J S', 'Prahalad Sonu', 'LNT', 'THE D', 'Chloe', 'Rumil', 'Nicole G', 'walter del cid', 'suvro russell', 'Swetha S', 'M. A. Majid Al Kindi', 'Focused All Day', 'Mpho Gift', 'Paulius Asvydis', 'Vennu Gopal', \"Qur'an Made Easy (QME)\", 'Pablo Dini', 'Satish Kumar', 'bookish maria', 'Elysian S', 'Luis Henrique dos Santos', 'INSIGHTUP', 'Cute Pets', 'Mal', 'Shraddha Verma', 'Kevin Rojas', 'B C', 'Tech with Sofia', 'Brandon Sager', 'Jorge', 'tgn SP', 'Basco , Nicole Shyne C', 'Your Dogedi Friend', 'Pronoy Biswas', 'Anuja Joseph', 'CRYPTOE TRILLIONS!', 'Saral Prabidhi', '[Pz] chiu', 'Narayan Singh Rajpurohit', 'Daniel Almira', 'azmodanpc', 'Arvind D', 'Bubbles_darling', 'Mohamed Saud', 'Pltt ji', 'THE G.', 'Daryl James Badilla', '1987CRER', 'Hasnat Chowdhury', 'Felipe Bettancourt', 'Dee', 'Vivek Kumar', 'Python Experiment', 'ananyo chatterjee', 'cricket info', 'mohamed zakria', 'Jun Wenn Khong', 'Radhika P', 'Just Fabio - Check my Channel', 'Liam McCarthy', 'ARTURO IVAN TREJO DE LEON', 'Adam', 'Ahmad Altaweel', 'Vitor Ribeiro', 'SuperAppmaker', 'Omotehinse Elvis', 'Kio Kurashi', 'Monoki', 'Collin Pontius', 'A R', 'akshay kumar', 'Aramis Farias', 'Ayu Fitriani', 'ziaride', 'Knofi', 'SARAH OLADIMEJI', 'Uday Raghwan', 'Kent Baluyot', 'Hozaifa Fouad', 'Surya Narayan B', 'Be Lit', 'karrde666666', 'Anson Cao', 'Rachel WU', 'Panos Mitsios', 'ENetArch', 'Supriyo Sanyal', 'Kernane HD', 'Tulshi Mushahary', 'Jesus Ponce', 'Frederik Leones', 'Claudinei Pereira Junior', 'Hana Mccarthy', 'Somatic Human', 'shareef shaik', 'vncedk lie', 'zowlex', '94mathdude', 'Qais Ahm', 'JTProductions3', 'Khaled Kamel', 'Calebe Andrade', 'Chetan Reddy', 'Leonardo REGINO', 'Ashish Tulsani', 'Quynh Pham', 'Julian R', '1stTime GunOwner', 'Sodium Chloride', 'Nicholas Gates', 'Slim Ben Romdhane', 'Mohammed ek', 'andrew follmann', 'Nik Danial', 'oneBox Gaming', 'Divya Bhadauria', 'John Dani', 'mavis yu', 'Moises Castillo', 'Vihkie Mamush', 'Shiva Suresh', 'Jonathan Jarzabek', 'Rizki Fajar Nugroho', 'Dean', 'Jens Toft Knudsen', 'Madhusudhan Reddy Bijivemula', 'Ozman', 'Crystal', 'Rema Khiangte', 'Yahia Siddique', 'Juan Echeagaray', 'I Teach While Traveling', 'miamiguel', 'Lilac Spring', 'Justa Hunch', 'Keenan', 'Vaibhav Jaiswal', 'Md. Masum Omar Jashim', 'kartik parmar', 'Giulio Minto', 'Vuan Maharani', 'H W', 'JR', 'The Baylis Code', 'Luis Enrique Gutiérrez Mejía', 'Creativityfunzone', 'Eminent Jade', 'Oscar c', 'SYED IMAM', 'Le What?', 'Miguel Benito', 'Douglas Sandoval', 'Hari Paudel', 'HW Lee', 'userh dza', 'Justin Vallad', 'Ryan', 'dissolved88', 'Naek M', '44R0N-', 'M Brom', 'hcg', 'Alankrit Verma', 'Tien Cao', 'Maldonadobox !', 'Peter Silie', 'Business Central', 'Sukhman', 'Braghadesh Natarajan', 'Aimen Baig', 'Jack Pham', 'Nicolás Costa', 'Prakhar Garhwal', 'Anish Dass', 'Bob Brown', 'With Pikachu', 'Evin Vinod', 'lightbulb facts', 'Altwat Haidar', 'Lees Lees melou', 'Bairavi Bairava', 'Quit Ruining My Recommendations', 'JC', 'fida80', 'Sourav', 'mariofan VIDEOS', 'Ayman Hazim', 'Reb', 'Azmat .', '@bDull@', 'Nikhil Kumar', 'chill', 'P. J.', 'Kumar Polisetty', 'Aditya Jatin', 'Simran Kour', 'DS', 'Dipak Patel', 'Pø La', 'YY ling', 'Moe Cea', 'Mohammed ehtesham S', 'Jek', 'Grisdy Mahardikana', 'smallville', 'ry', 'H.', 'Ope Yemi', 'smallypuppy22', 'Purple Crayon', '♡KetoKim♡', 'saravanan Elangovan', 'tubzvermeulen', 'Follow the dirt bikes', 'Geraldo Francisco', 'Даня Носов', 'StiffWood', 'Wade Cookston', 'Matthew Mankiewicz', 'Bhura lal', 'Hani Hae', 'Ruchil Barya', 'KAR', 'MileHighSZN', 'Chillos100', 'Crarazy', 'Aniket shivam', 'Ravindra Ch', 'Tshepo Ngake', 'unintension', 'MyStiC 6', 'Rudraksh Gupta', 'Stefan Janse van Rensburg', 'Sravan Arimadla', 'itachisasku', 'Fire Panda Party Penguin', 'Ryan Benner', '] -- [', 'ALEXpansion', 'Heera R', 'GamerTechKid', 'Siraj Joy', 'Praveen', '♡CartoonClimax♡', 'Jeremy Russell', 'Awdhesh Kuwar', 'Gonzalo Pozzi', 'Indigo Radiance Tarot', 'Computer Science With Er P K Tiwari', 'Sanket Sharma', 'Rustam-Z🚀', 'Piyush Zope', 'Mohammed Mesum Hussain', 'Andre Gerdts', 'Ecstacy', 'HS L', 'Mark Amirov', 'Ahmad Talib Ab Rahman', 'Nethmina Navodya', 'Alex The Analyst', 'Anant Sinha', 'James Hizon', 'ShmeegleSon', 'Hamza Laghari', 'hannahmatias', 'Ravit Jain', 'Nicola Smith', 'Firoza Akhter', 'Pi Ditte', 'd4vidmiller', 'Michele Moneywell', 'Quoc Trung Phan Tran', 'Raja Sekhar Gowda', 'Mayuresh Joshi', 'Joby John ', 'Ranuga D', 'Festus Franklin', 'المحلل', 'abiramisri gurumoorthy', 'Arjun Manhas', 'Zack Y. Al Hashmi', 'kiran v rao', 'Royal Jester', 'ruan xun', 'Saurabh Raj', 'Jeffrey Santaite', 'LOGACHANDRAN A', 'Stan Leery', 'Shakthi Goud', 'Siri Manjunath', 'Anurag Chakraborty', 'Audrey Jones', 'R T', 'Melvin M', 'Felenov-official', 'Raychel McBride', 'adtc', 'Amir Temmani', 'vitamin c#', 'Kyler Briskey', 'email', 'bob vape', 'Jousef Murad LITE', 'Stef Emy', 'Vaibhav Agarwal', 'Muzammil Khan', 'Mr Mindless', 'Peter Lauge', 'PolarBear1310 Dr', 'Nigel Tufnel', 'Ayy Lmao', 'LD P', 'Anusha Mula', 'Ashley Witherspoon', \"EGG's Diet Diary\", 'ItzAClassic', 'Said Shikhizada', 'Muhammad Salman Sanaullah', 'Jan Nelson', 'Lieketseng Makhalemele', 'ihsan saldin', 'Svarte Natt', 'Vijay Muthu', 'M.Nuramzan Iftari', 'Blaine Prickett', 'Moh Zak', 'SuperAwesomeCaptain McFluffyPants', 'Chris Rice', 'Archi Sisodia', 'Anmol Malviya', 'xb9kk', 'h.a. rob', 'Bloodsmithgamer Music', 'ThreeLeafClover Capital', 'Jude Issac', 'Anubhav Sharma', 'Gabrijela Mikulić', 'Bria Rowe', 'Frankium Zhao', 'Kartik Sudan', 'ME CRYPTO', 'BYREDDY Venkateswara Reddy', 'Status Express', 'Gaurav Tripathi', 'Shadow Jhin', 'Geoffrey', 'Shosher', 'Christopher Ruacho-Beach', 'Muhammad Ummar', 'mineland', 'Ayu Cahya', 'Jeet Shah', 'Алексей Симонов', 'Eric', 'Ashmeet Singh', 'Vijay shankar Sridharan', 'Lovebuddies App', 'Fauzan Salam', 'J K', 'Qhialdy Diwasjati', 'Arnav Shendurnikar', 'Wasu', 'Tartine Prefere', 'Minh Trung Dang', 'hemannth p s', 'krishnan srinivasan', 'V Martins', 'Shyam Saha', 'Stephan Ullmann', 'David Wills', 'Omar Iftikhar', 'Alana Esty', 'John Dale Vacaro', 'Nenad Drobnjak', 'painting', 'abhishek pandey', 'Jacobo Gheller', 'Kaushal Bodapati', 'TLaliashvili', 'Prathamesh Dinkar', 'Gurjinder Singh', 'Phat Ng.', 'Pragatisheel', 'polpotube', 'Enzo Scandelt', 'supriya palaparthi', 'Sholine Fighter', 'rajani', 'Zaki Syawie', 'Heavenguard7', 'bmasseybrannen', 'chakra sb', 'Chinmaya Mukul', 'Vasilis', 'Kartik Aggarwal', 'mar-on-solaris', 'Schaih Mansur', 'Anthony Johnson', \"don't mind me\", 'Greg Davis', 'Jeffin', 'Benjamin Facouchere', 'Anton Slavik', 'Dale in propria persona', 'kevin kurnia', 'otar shavadze', 'tom Ramzy', 'Ari Finkelman', '4211', 'Falxie_', 'Gadusi', 'Maverick Deen', 'Ashish Kumar', 'Antonio Sarosi', 'Radha Krishna', 'Stan Rogers', 'Holphana Scott', 'SY', 'cresbydotcom', 'Evan Howlett', 'Hamad Rakshani', 'Rahul Rajput', 'Aqeel Kirmani', 'Shiva Shankar', 'Neekita Rai', 'afia sheikh', 'Hologram', 'Toni torre', 'I N S A N E C O D E', 'Avallach', 'Shyam G', 'TheMichael', 'Marc D', 'Imran Ahmed', 'Naomi Williams', 'A V', 'sagarika karmakar', 'Rollin Shultz', 'Rahul Kumar', 'MrSpikegee', 'Bunsen Honeydew', 'Sudeesh Kumar', 'Carlos Espinoza', 'Panda Bro', 'venugopal jakka', 'Dev', 'fronze va', 'Abhishek M', 'Ife Eniolorunda', 'YTWatcher', 'mike blatterman', 'Gaming, music and jokes! *and a bit of cooking*', 'Farrukh', 'Designator', 'cerveraoliver', 'Pedro Braga', 'nistala manjula', 'K T', 'Juan Juarez', 'Krank', 'anastasia kozac', 'SAURABH DANG', 'Vopogon', 'Kok Yang Chuang', 'Curse Atiesh', 'Mark Davenport', 'Andres Cifuentes', 'ChronologicalLogic', 'Dima Noizinfected', 'Hasrul Muhammad', 'wclifton968', 'Amiel', 'Mike D', 'Areg1337', 'Etienne', '욱 Crescendo Wook', 'mubashar qadeer', 'everyone cilw', 'Jan1270', 'DARTHASHPIE', 'karemX •', 'Venture Story', 'Devin Domino', 'Alxasaurus', 'Agung Prabowo', 'Suraj Poddar', 'jad elktini', 'Hadley Jolley', 'Diogo S Grecco', 'Lucas Yam', 'SHRADDHA BHAN', 'Manjunath Yanbee', 'Samuel Dokowe', 'Reshma A S', 'Jon Ragnarsson', 'Zawir Running Channel', 'Graham Beyer', 'BoneAppleTee', 'Cauchy Marshal', 'Lubricus the slippery', 'TOP 10 FOR ALL', 'cool😎crew', 'moon zubair', 'R Khan', 'THO THO', 'Prabha Kohli', 'Peter Middo', 'Nikola Tosti', 'Santeri Hietanen', 'Robert Grantham', 'shahin rmz', 'Andrew Bethel', 'CHICKEN NUGGETS', 'Abhishek Tyagi', 'Jake Mon', 'Ivan Rebolledo', 'Noelly', 'Crafter 89', 'Manas Patil', 'Nithin', 'bjr E. WA.', 'Racka N', 'Ipunk bin Partoko', 'Shanthan Kumar Padisala', 'Lillian Pierson', 'Likith Raj', 'vitthal gusinge', 'Teck Jiun Ho', 'Andria Micunovic', 'Dee Dee', 'Dmitry', 'UristMcFarmer', 'César Murillo Moreno', 'Mel G', 'Ezra', 'Xabier Garcia Andrade', 'Lucas Simoni', 'Sudo__', 'Santiago Sotelo', 'Freeflier1978', 'Real Estate Basics', 'Maciek2846', 'Antonio Diaz', 'Lid Nat', 'nervegun', 'Mohammad Abdullah', 'yannick OUM', 'Mahir Balushi', 'Love of Christ', 'Send 2 World', 'Binay Saw', 'A Pararaven', 'Anagha K S', 'Daniel G Teaching', 'Jeff Childers', 'Charlie Evert', 'Shaun Saggers', 'Adam Nelson', 'Purpinkn H', 'Nazarine Beats', 'adil tariq', 'Suman Goswami', 'Abuzar Abbas', 'HSJ22', 'Nikhil Ambastha', 'Ihsyan Nur Hidayat', 'Mark Bradbourne', 'Forbidden User', 'Eat with Me', 'པར་དིཔ་ ཏ་མ་ང་', 'Iam Rasheed', 'Swaraj Pradhan', 'James H', 'Lionel York', 'True Story', 'Roberto G. Puentes Diaz', 'Data Insight', 'Vaun King', 'John Doe', 'La cosa del futbol', 'Matthew V', 'KNW-Seeker', 'Celtic Mist', 'Sirikorn Chatphatthananan', 'Kim Taewoo', 'Jean Malissard', 'Learn With Akikul', 'kishan payadi', 'Caroline Kelly', 'pramod surya', 'Kendall Johnson', 'Nick Moritz', 'Harsh', 'Hlesko Mlan', 'Mayank Chaudhary', 'Edith', 'Suvo Mitra', 'Ashutosh Bhushan', 'Drashya Pandya', 'The Common Sense Professor', 'diana dennis', 'Paranormal vibez', 'Shyamala Thiagarajan', 'Pradeep Singh', 'Kashif Khan', 'Enzo Augusto', 'itsPenguinBoy', 'Michael Gmirkin', 'Nhan Le', 'Jose Pablo Luna Sanchez', 'David Maldonado', 'A. Parker', 'nabib zahid', 'prod. swiiph', 'Herlen Heegii', 'Aalap Jayaram', 'Preeti Sri', 'K h007', 'Mike Samie', 'World Lit', 'Lun', 'Kian Stanio', 'Selenium Glow', 'Kusuma latha jetti', 'Mihalaras Tsop', 'Robin Singh Kachhwah', 'Vizzy Oso', 'misst042001', 'Manny Khan', 'Hououin Kyouma', 'Karman 103 Batth', 'Resa Rese', 'Gemelli L', 'Shreyansh Goushal', 'Natalie Gray', 'Roberto', 'Captain Keyboard', 'Stuart Townley', 'free man', 'Samuel Oladejo', 'suyash sharma', 'Mike Johnson', 'Fotis Sofoulis', 'Ferdinand Dahel', 'Heaven grim', 'anurag Kumar', 'Snowman', 'Jmk Jmk', 'Smellyt0fu', 'Nate X', 'alexmarin68', 'pomegranate', 'WTHshorts', 'Smart Hustlers Club', 'Vamsi Krishna', 'Preside', 'Salaam Kikhwa', 'Jetendra Kindra', 'Arquimedes Quintero', 'FaLcOn', 'Kimberly Esparza', 'Fritz GC', 'eltreum1', 'joaquin gonzalez', 'Alex Rey', 'Kristen Jensen', 'DIYfusionHelp', 'Danny Albers', 'PianoHaiku', 'Harleen kour', 'Madhu Garg', 'North Patawee', 'David Jr', 'Patito G', 'psrowser', 'Lutfi Hakim', 'Simone-Claire Campbell', 'Peter Ogunwale', 'Dugout', 'christian foudre', 'J.D. C.', 'Frank Ballard', 'Aima Malik', 'A Dalmar', 'Lana Dang', 'Project Account', 'NoName', 'Saurav Sahay', 'Thinkmetrics', 'Daniel Cárdenas', 'PeterD', 'Luiz Gustavo Nunes Pereira Filho', 'BLISSFUL JOY', 'Mahendra Bhore', 'LOL Everytime', 'Ivan', 'Byron Brown', 'P M', 'Wasim Shaikh', 'Mahesh Ghorsaine', 'Sangram singh yadav', 'Johannes Peter Frischknecht', 'KIRAN', 'Lenny', 'raj agarwal', 'Qk9CWU5ib3x', 'Swati Singh', 'Megat Ahmad Afiq Ahmad Shukri', 'Minna Mi', 'SAKETH KUMAR', 'MISHtake', 'Changed Man', 'Jagannath Rath', 'Vighnesh Chavan', 'Sam Mitchell', 'Nicky Suwan', 'Ajmal Shah', 'SAICLONE', 'Kathleen R', 'el_ikari', 'Elmon Hadji Cosain Gutoc', 'Epic Sim Racing', 'Paul S', 'R&B vlogs', 'Productive Owl', 'Matthew Reader', 'Gustavo Lippi', 'Akosi Bing Pets', 'ankit khanna', 'Siddhant Wade', 'J-Wake N2REM', 'Cynthia Cantrell', 'Jose Silva', 'Hylke Rozema', 'James Velvet', 'sandeep diyya', 'Mike', 'jsolivas1516', 'eric moss', 'Bob Smith', 'Dat Ha', 'John Mendenhall', 'c0mplicated', 'Hong Wang', 'Nan Linn Sandar Htay', 'Christopher Lawes', 'frodev', 'J Alcantar', 'Caelo Marroquin', 'John Locke', 'CJ M', 'nexus', 'Manett Teboh', 'SpaceManJax', '문재앙', 'Robert Bigby', 'Huuu', 'Ben Odams', 'Madhur Peepal', 'r2012chupakabra', 'Kristine Barcelona', 'Jason Anthony Dela Fuente', 'Reece Ware', 'Lin Bei', 'Fang YL', 'Rustin Shamloo', 'Brian Yi', 'Yousuf Fayyaz', 'k', 'Jordan Kelly', 'FamousFelix08', 'Roberto Colon', 'Khalifa Khalifi', 'TheMarq16', 'medved', 'Ansh Bhandari', 'Mussab Saleem', 'artraft', 'CurrentResident', 'Bollywood Media', 'TheFootballPlaya', 'Phantom mercy', 'qtse', 'aumen1980', 'ksi1470', 'samar .c', \"cetriya's Art n Comics Channel\", 'John Nguyen', 'estranho konsta', 'dwiedemann', 'Oliver Garcia', 'Karthikeyan S', 'anurag neelam', 'lentztu', 'jamcdonald120', 'Mel Rivera', 'Md Modabbir Rahman Khan - Nayeem', 'Dj iET', 'TXejas19 TXejas19', 'CamdenBloke', 'EquippedHail', 'Jordan Hubbard', 'Mohmmed Yaseen', 'Samuel Matheson', 'Patty Schumann', 'Alvyn Sass', 'David Herring', 'FiscalRangersFlorida', 'andrew mathew', 'Vaughan', 'Bagaskoro Arif Prabowo', 'Korawich Kavee', 'Alex Ramsey', 'Rathernot Disclose', 'S. Varol', 'SaulBHP', 'Andreas Tio', 'Phong Châu', 'Amrit Jung Kc', 'stultus es', 'Amit', 'Fakhri Nurzaman', 'apolpieTV', 'icmanypeople', 'CneqCS', 'DARD', 'gureno19', 'Ilya Z', 'Aestareth', 'The Bari-athlete Fitness', 'MMK86', 'TheHiccups', 'Jézusmária', 'athrash36', 'Sameer Saeed', 'Justin Jackson', 'PES Play & Beats', 'Eric Hurst', 'Lumia Sama', 'fahmitha nazreen', 'somewhere right', 'KryptKicker5', 'Gavin Vales', 'Rishi M', 'Bryan Gonzales', 'ANTASH KISHORE SINHA', 'Ef Rx5700xt', 'João', 'Devashish Lall', 'Sarj', 'Hank Du', 'Musical Mind', 'FineWine 2.0', 'Stop Procrastinating- Get to Work , Minutes Matter', 'Sharath Shiv', 'Helmet Chili', 'DanCortes', 'Shivani Saxena', 'RAZREXE', 'Trotsky', 'Erison Torres', 'Giorgi Eliashvili', 'ABHIRAM K K', 'Console.WriteLine I no u l', 'Lenny Smith Red Pill Coach', 'Israr', 'Daniel Osmon', 'Quantum Marketing Analytica ', 'Anil Jayakar', 'Yousef', 'faiq ali Sayed', 'Jeff Trine', 'Arcanic Arcanicov', 'Arielle Gabriel', 'Golden Plectrum', 'BAI GAMING', 'Thiago Silva', 'ElectronTracker', 'Kevin T', 'T MM', 'Cleverable Life', 'Inceptacon', 'iji k', 'Bob Serrano', 'Fabrizzio Rutigliano', 'Nick brooks', 'ronan constanance', 'La Verdad Buscador', 'Darpan Patel', 'The cryptosexual', 'Nourve', 'Milos Popovic', 'JP', 'Kiruthika manoharan', 'Melina Sibaja', 'Steven Does Stuff', 'Game Pirate', 'Matt', 'Oiciruam Lau', 'C Monster', 'Platoface', 'AbuWafaa Wafaa', 'Terry Nelson', 'Chade Burwell', 'DAMR', 'ajesh pk', 'M T2020', 'Phil Nguyen', 'Ravi Barad', 'baw5xc', 'Jessy K', 'Henry Wu', 'Guilt Azaour', 'Money Rulus', 'Tony Joseph', 'life is zero', '365 Data Science', 'ADITYA KADAM', 'Ni-Ti-Fe-Se', 'Chris DeCesare', 'Barathraj Manivannan', 'Cybernetic whitehat-student', 'Matthew Roytua', 'How to Get an Analytics Job', '不要五毛,要 100', 'Tường Nguyễn', 'Steve', 'Enrique Macías', 'DEBOPRIYO SEN', 'ss', 'Abdullah Abtahi', 'Dee Cee', 'KyungHoon Na', 'Taina Elena', 'Alma SZ', 'Mohammed Salih', 'Shubham Gupta', 'Yuri Alencar', 'Rupa Dev', 'Okan Yazmacilar', 'Shaurya jain', 'Utkarsh Send', 'Art_of_Ayan', 'Sainath Arikal', 'iLubembz', 'The Fonz', 'chakands', 'Moges Tesfaye', 'Your Subconscious', '~Icarus~', 'altGoolam', 'swagat parida', 'Phillip C', 'yourfavpersuasion', 'Abhetha Shogun', 'Cristian Rueda', 'AK Price', 'Sharmila Roy', 'F G', 'S To', 'blockshift 758', 'Viswas Kamisetty', 'James Husentoff', 'Yusuf Domun', 'Pit Lazarus', 'huggers', 'Jan Vatras', 'Morteza M.', 'Ahmet Akin', 'neko espresso :3', 'Avery Thomas', 'alan makoso', 'Angie K', 'empty heart', 'Panther King', 'Enkidu', 'Giovanni Sampaio', 'GeoAlex', 'Patrice Morris', 'Playbenchow On99', 'Christofher M Delgado', 'Máté Pásztor', 'thepro08', 'Henry Paul', 'Jah', 'Craig Hughes', 'Mady', 'Hrvoje Gabelica', 'Anthony Micha', 'HELPING PEOPLE', 'Diogo Paim', 'Nijatullah Mansoor', 'Jason Luong', 'Galactus Galactus', 'Joy Soyo', 'KD', 'PRAJNESHA RAJ NARAYAN SINGH', 'James Inniss', 'Carlos Esquivel', 'Aashna Dalvi', 'Deep Singhal', 'fariz ascariz', 'Mehregan Karbasi', 'Cj Akash', 'Rovsau', 'Shenal Reid', 'haider ali', 'saeed ebrahimi', 'Cam Gold', 'manish poudel', 'Another Look', 'abdur rehman', 'Ryan Pennington', 'real indian', 'Wardah Ayub', 'Abhijit Mallick', 'Thomas', 'Arjun Haridaas', 'Enrique Cabrera', 'Rupak Barua', 'Jieming Wei', 'Sakshi Katiyar', 'Loiro', 'Luciano Osinaga', 'Álex Capilla', 'Santiago Partipilo Mootz', 'Baran Alkan', 'Daniella Arriola', 'Rez', 'JACK_SPARROW', 'Abel Renteria', 'Heleno Paiva', 'Tanmoy Debnath', 'rutvij gajjar', 'Spectate Flip', 'Luciano Latouche', 'Thierry Lincoln', 'david mujeeb', 'Erum Mirza', 'Jabal Nur', 'Robert Cuellari', 'Khalid Hossain', 'Frosty Teacup', 'Samuel Boroni', 'Mr D Lawrence', 'Med Light', 'Kunal Parekh', 'Michael Ferrador', 'wen wen', 'Stella Chang', 'Atlas Inteligência', 'LuisFelipe Acevedo', 'MangoKyaw သရက္သီးေက်ာ္', 'Farmerwal', 'Nasar Ul Islam', 'Cam Atf', 'tyler smith', 'Cristina', 'glo kokou', 'Lucky Oswald', 'Matt Greenfield', 'js gamerz', 'No No', 'Pratik R', 'fakeyunaito', 'Thanuja Chamika', 'akameamanic', 'potatoo studies', 'Nikhil Jagia', 'Jimmy Yang Liang', 'Dom Dubz', 'Arvind B', 'Bostonite1985', 'Rick M', 'sitharthan mirudhul', 'We Learn Together', 'Sean Agapito', 'Ragav Srivatsan', 'Hyotei', 'Sam Van Geel', 'beatbox-07', 'Ranjith M', 'Marios Gkionis', 'Victor Manuel Tapias S.', 'bhargav ram', 'Matheus M', 'Frame Jakkaphat', 'Usjsjd Nzjzjzsn', 'Imtiyaz Bhat', 'Badrinath Illur', 'Donald Li', 'Poeteller', 'annie lin', 'Matthew McNulty', 'Sadat Arefin', 'Lorenzo Felipe', 'tsbatm', '#Lost', 'Javier García', 'The Butler', 'donepearce', 'Aman Sagar', 'AmjD S', 'Richard Cinco', 'Roberto González', 'Jonathan Au', 'R R', 'connozac', 'Jay Jay', 'Musaab Shawesh', 'TeaLE Yan', 'Sharon Ng', 'Lou', 'thingyee1118', 'Vinay Jain', 'Adnan Naufal', 'Kacey', 'Juan Manuel Feal', 'Ganesh Chaitanya', 'Steven Coates', 'Kaustubh Pande', 'Kenneth Kong', 'José Eduardo Campos Hernández', 'Nwachukwu Ujubuonu', 'Felipe Rifo', 'olemew', 'kalendra bista', 'David Marsden', 'Wakabroski', 'Dylan Burrowes', 'Cuck', 'CheGevarra', 'BroGAMES', 'Ku Il', 'Sandeep Singh', 'Granville Williams', 'Katie James', 'Olesego Galejewe', 'VHP Sarma', 'P C', 'Angel Manuel Perez', 'Sadhana Singh', 'Yakultgreentea', 'Gerardo Ramírez', 'sean cho', 'кацук николай', 'Nikko Boss', 'Amar Kumar Gupta', 'Marcel E Peters', 'V S', 'Miguel Rodriguez', 'Munther alnadabi', 'HopperLou', 'Mahi Edits📽️', '192 351 ROVELL FERNANDES', 'Nascent Naomie', 'lordy bahi', 'K R', 'Саша Чекой', 'Aapan Mutsuddy', 'Nisais N', 'Pablo Escobar', '* Mematode', 'Luzina Vlogging vlog', 'Ravi Teja', 'Dario Matonicki', 'redryan20000', 'Aurel', 'Rafael Tenório', 'ianjamesmac', 'Adil Suhail', 'Kenny', 'Manuj Joshi', 'Ali M', 'Kapree Luxe', 'Prakhar Kumar', 'helping person', 'Raj Anim', 'ibexy', 'Regita Santi', 'laxman aryal', 'Nedwin L.H.', 'BRAJESH KUMAR Singh', 'Hussein Mahmoud', 'Z Jiang', 'Raj Guru', 'Digvijay Bambal', 'mayank agarwal', 'Sazzadur Rahman', 'Wendy Santos', 'Sean Bill', 'Time Lapse', 'Vic', 'Bryan Chang', 'Aditya Aradhye', 'Ivan Ugalde', '#Top 10', 'Shaun Booval', 'DingoDev', 'Top Rigor', 'Jacob Pettit', 'Mike Woz', 'Rajat Pathak', 'Michael Stanley', 'Víctor Gauto', 'Keshaka Perera', 'Subash', 'The_White_Lotus', 'RIPUDAMAN N SINGH IIIT Dharwad', 'KokoCamo', 'Sugav 360', 'Zach Chairez', 'Arnaldo Novoa', 'Hanna B', 'Muhammad Zaakir Mungrue', 'SMARTER EVERDAY', 'hope bahle', 'Ameya Kasar', 'Dikshant Kc', 'Rishav Shaw', 'Flameeyes', 'THill', 'anitha Prakash', 'Akash Sharma', 'Professional YouTube Commentator', 'gazzy g', 'Shuvam Upadhyay', 'BALAKRISHNAN RAMAN', 'Manuettante Ammukuls❤', 'Everythingishere', 'Jason F', 'Edward Jaycocks', 'Kae0_o', 'karamidris mohamed', 'craig salis', 'Francis Mathe', 'Aarti Kadu', 'Emeka Justice', 'wayne Last', 'kishan kanesakumar', 'Resendiz de la Cruz Jesus', 'Mo Rich Channel', 'Aryan Kaushik', 'Abdullah Fahad', 'Bro is on high', 'Sabir Attar', 'Puppy Plaza', 'Alaa Sedki', 'Mind Your Business Podcast', 'Nicholas Fornaro', 'Nicky Sai', 'Aayushman Joy', 'Vaibhav Gupta', 'Goutham Dev', 'oliver', 'straighter100', 'Sam Fisher', 'Matthew Eaton', 'vicky vignesh', 'Poli Crisostomo', 'Aris Darmawan', 'Gulam Mohiddin', 'Ho Homer', 'Aniket Khanchi', 'KRISHNA KUMAR', 'Joe Jenkins', 'Abdul Raheem', 'Levine Akampa', 'Miaow', 'Tuan Anh Nguyen', 'Dane', 'Peace Spirit', 'Ronald Gurung', 'FryL', \"Soon Sakesar Foods & Recipe's\", 'Maxine F', 'Kritika Joshi', 'Allex Schulz', 'shoaib Multani', 'Peter Griffin', 'juno luna', 'Zed Shockblade', 'Miraiinik', 'Sfundo Mabaso', 'Vijay S', 'ImperialArmour', 'SavedbyChrist', 'Soukat Sarkar', 'Voltaire Pabustan', 'Jamie Lee Goodchild', 'Ricky Mort', 'Daniel Acosta', '♜ Pinned_by Paul NGumąh', 'XSessive', 'Count Dain', 'Silent Cat', 'Lav Agarwal', 'Inna Phone', 'Islam andIslam', 'trezor', 'Troy Zin', 'Zaid Siddiqui', 'Facundo Rivera', 'unistinger', 'Maniesh Ramanayake', 'NIRAV BHATIA', 'Reach One, Teach One Denmark', 'Adam Sobanski', 'Rajkumar Bharathi', 'Abhay Tyagi', 'Dhruve Mital', 'Shobana Athiappan', 'Sai Kasibhotla', 'Plato on Pluto', 'EJ 87', 'Wahyu Wijaya Kristianto', 'Eighteen Philippines', 'Spencer Holley', 'VENKATESH S', 'Abhinav Kale', 'Dominik Pintarić', 'Skydeep', 'Anil Thapa', 'Ishaq Jones', 'S N', 'Shakiba Imran', 'Azizul Islam', 'mohit k', 'swivei production', 'Saksham Jain', 'Flying Thestrals', 'Incredible Indian', 'k 2', 'Alejandro Cuevas', 'Patricio Rios', '张先森', 'Moses Ose', 'Hai Tran', 'BRAJESH KUMAR SINGH', 'Luiz Miguel de Lima', 'NARGIS WARSI', 'Sattaya Kongkom', 'Srinivas D', 'Ricardo Hernandez', 'Saad Mann', 'venkat chinna', 'Nargis Patwardhan', 'DS channel', 'Cris', 'Yasmeen Aman', 'suresh lira', 'Dmytro', 'Nasir Siddiqui', 'Ali Lara', 'Dat Nguyen', 'Jacob Personal', 'Giovanni Hernández', 'S G', 'Pooja Chinni', 'RRR FRDD', 'Finn Victorsson', 'Jimmy Wong', 'SANTOSH GIRI', 'Juan Pablo Videla', 'Tyree Mason', 'Sharif Abdul', 'PRASHANT K', 'Toan Hien', 'Ansh Jhatakia', 'Demr', 'April M', 'Zacks S', 'Nicole', 'Mark Fitzpatrick', 'Ał¡ ', 'Dylan Katsch', 'Mind Over Matter', 'Anthony', 'Mohammed Fajoui', 'Gaurav Lotekar', 'kiwifruitkl', 'SouFiane Hmiad', 'Reza Mostafid', 'SK1664', 'PlzShutUp', 'Jose Aguilera', 'emmett', 'Anas El-Sahly', 'Marvin A', '@?!π', 'Ashim Neupane', 'Hardroco', 'donkeykong2020 cccwje', '•', 'dudds6699', 'Leonardo Augusto Thomas', 'Md Miskatur Rahman', 'Dominik Schauer', 'Parvez Khan', 'Sam Rao', 'Issa MA Abdi', 'Muthu Kumar', 'Thilina Padmathilake', 'Pijush A Sinha', 'Brising Conan', 'Téva D', 'Yash Solanki', 'Sulaiman Ahmed', 'Tech Keeda', 'Cody Enders', 'NSLog0', 'Brenda Baholo', 'nagpurkar ashish', 'random Dude', 'SaVaGE AK', 'Abdirahman Mohamed', 'PRIYADHARSHINI KANNAN', 'chris 1982', 'Dylan Tritle', 'Raj karan', 'Manikandan M Ram', 'Smeet', 'Nico Medellin', 'Isaac Talavera', 'Naveen Sajja', 'dan Curit', 'Daily Conversations In English', 'Billy Lin', 'Suman Mishra', 'Fawad khan', 'Eduardo Atilano', 'Ryan BlackWealth', 'makeoverbymoon', 'umer ahmad', 'Patricio Najeal', 'Paul BEPE', 'syamili', 'Travis Collier', 'Baby Yoda', 'Irok 121', 'SALSA SANJAY', 'Tadas', 'Joao Santos', 'J Ray', 'Kenny Love', 'Илья Куликов', 'Takpor Yealu', 'Aby', 'Michael Sreepuram', 'Muhammad Muhib uddin', 'Pablo', 'Evandro Campos', 'Λrafath Shafin', 'Manoday Patil', 'Akash Ag', 'Dave Telekom', 'Nithanth', 'Bangdashot', 'Subhajeet Chakraborty', 'khairul.', 'JY Kim', 'urmamaha', 'Mohamed Sesay', 'Patrizia Val Madiona', 'Mischa Peters', 'Kotaro Ikawa', 'anne deborah', 'Yoga Sounds', 'WAI REN', 'timangar', 'Brian Newton', 'Kevin M', 'Alex Acosta', 'Sorawit Siangjaeo', 'Betty S', 'EmotionIce', 'SHIV', 'Ankit Kohli', 'Dariusz Drozdowski', 'Ashutosh Mahajan', 'David Martin', 'aw wa', 'Juan Carlos Durán', 'Adam Duarte', 'J. Andrew Sellen', 'C', 'David Bürgisser', 'Comb Yeah', 'Jessada Hawley', 'Spider-man Inside ', 'Alter S', 'Minimi', 'XCaliber', 'Ataf Ahmed', 'Chart Explorers', 'Josh', 'Nicolas Rmarca', 'German C', 'Martin Liza', 'Mohit Chauhan', 'The Clip Zone', 'Ayush Pandey', 'Richard Yim', 'Average bloke', 'Nelson', 'Learning with a Pinch of Salt', 'Steven C', 'julian oliveros', 'Vermona Lumban Gaol', 'Soulboy', 'Aidan Au', 'Sup ?', 'Girish varma Itta', 'תמיר אוחנה', 'nagasai purvaz', 'Arun Khrishna', 'S Z', 'Bharat Jangid', 'Roberto C. G. Neto', 'john janis', 'Amit_foodyscientist', 'Nicole Enesse - Explore Cybersecurity & IT', 'Gagan Singh', 'Monika Thube', 'Philip Persaud', 'V. Gedace', 'Tarvet Imala', 'Gelats X', 'Kofi Antwi', \"Keagan O'Donoghue\", 'rin 101', 'Shree Hari', 'Viv', '40K', 'Klaton', 'Guillermo Sanchez', 'LiveYour LifeNow!', 'Gio 255', 'Abhijeet Kundekar', 'Luis Garcia', 'Uditha Bandara', 'Michael Aaron', 'Olenkie Tebogo', 'Citadel', 'Landry kidron', 'Jinyi Duan', 'G LUONG', 'TScoms', 'Vambah Sillah', 'Leo Liu', 'Shikhar Dixit', 'Adele D', 'Abraham Biratu', 'mythorganizer', 'Zaid', 'theburntcrumpet', 'Konrad D', 'Mariska Lupitha', 'fatimajamalussama', 'Eduardo Solís', 'Arindam Dutta', 'dd Wayn', 'Justin Clark', 'Adam Kupiec', 'Adventures with Abhisek', 'Alexander Mikhaylov', 'Ramesh Kumar', 'Vedant', 'Kağan Özdemir', 'SARAVANAN NATARAJAN', 'Mikael Morrell-Stinson', 'Redublo House', 'AshalotGG', 'Fahad Sajeem', 'Jack Stalker', 'luvyou baby', 'colab work', 'Konstantin Kaiser', 'Ted Koo', '__', 'tri blues', 'Dad', 'Christiana Ns.', 'Luka Tacer', 'CAPTAIN', 'AK', \"Na'im\", 'Siddharth Patankar', 'Nordenla Shangderpa Lama', 'Udit Ghosh', 'Priyanka Chellappan', 'AMIT KUMAR', 'salik Malik', 'QuantAttempt 1.0', 'Enock Heewon Yoon', 'Michael Brown', 'John Czech', 'Mimosa Bella', 'Alexandre FdR', \"Yay It's Melody\", 'Remlat Zargonix', 'Thomadventures', 'Prem Singha', 'JEROME JERRY', 'Vidya Ratan', 'Wewerton Mendonça', 'master mind333', 'Niranjan Chavan', 'Md.Wahedur Rahman', 'Yahya Fiddi', 'Manish Kumar', 'Veselin Ivanov', 'kanderi vamsi', 'mauricio alieno', 'Austin L', 'Hamza Barka', 'N B', 'Shubham Jain', 'Andre', 'Atharva Joshi', 'sabarish waran', 'Mimsy', 'Shuchita Rahman', 'Radio Jockey Ankit', 'Anais Wolff', 'Ernest Yau', 'Francisco Grosso', 'Cesar Leon Tovar', 'Gary Mu', 'Bryan Nguyen', 'Chakshu Grover', 'Matheus Queiroz', 'ez pz', 'Aniket Tiwari', 'R G', 'Aditya Prakash', 'Tanya Singh', 'Plot Twist', 'Yash 999', 'Jewel Flores', 'Ankush Kanwar', 'Lame Footages', 'NSFW NSFW', 'Issacz Chelvam', 'yakub Sen', 'Trari Hamza', 'Maxim Zavertyaev', 'kritin gour', 'Jonathan Ha', 'Sujata Kanade', 'Ankur Giri', 'Colin Maharaj', 'Ravindra Sanchoriya', 'Spark ZA', 'Bhavik Pandya', 'Nabeel Shaikh', 'Arpan Sagar', 'Gagana HN', 'topumasum', 'Jason Ko', 'Van-Excel Acheampong', 'Anu Pandey', 'blah', 'Days 8', 'alex pietzak', 'Vira Kriukova', 'femmeNikita27', 'Yijun X', 'Siu Ming', 'Sofia Valeria Toro Chambi', 'Jacqueline Ciao', 'Jeremy Lagunas', 'Seth Aaron', 'Restless Crow', 'Joshua Sadowski', 'Hari Krishnan I V', 'Abdur Razik', 'SOUVIK NANDI', 'Harrison', 'Dare Emmanuel', 'Rooster', 'Az Najhi', 'makbar59', 'Nahuel Saborido', 'O . M . Guy', 'shaik abid', 'jason james nabor', 'RAZAUL ALAM', 'ousmane Lom', 'an doan', 'Subhojit Dey', 'cally2011', 'Rohit Ekka', 'Josue Rivera', 'Javier I. Sampedro', 'Haitian Creole With Luciano', 'Ed Bradburn', 'Hansol Jang', 'Jonathan Chang', 'Chris Polk', 'Joshua Greer', 'techFazeTV', 'Irfan Ullah', 'Taric Ov', 'Tarun', 'Mariano Perez', 'Alex Vargas', 'IndieGrungeFolkStuff', 'Tesfaye Mekuria', 'TO TO', 'David A. Giraldo', 'UFufuay', 'HCCH', 'Cristian Sanson', 'Vinícius Darolt', 'Kevin Marti', 'Danielle Catarucci', 'Tim F. Hans', 'Mr Spock', 'GinaMa316', 'Bindu', 'Henry Jewkes', 'Gerald', 'Sergey Nosov', 'Fawad uddin', 'Ruans Jutz', 'Sathya Narayana Karthikeshwar', 'Fidel Huber', 'Taylor', 'Yash Modi', 'richa kanodia', 'Li Ci', 'Maslov', 'Marc Clark', 'Rafael Perches Pierri', '111isthree', 'Nicolas M', 'null 6', 'Amanpreet Kaur Kohli', 'irene chelsia', 'ShuffleTech', 'Control the Guh', 'Hani Ghate', 'sayad7195boksha', 'Arockia Raj', 'Tomisin Oluwasile', 'Himanshu Gautam', 'Ro Ro', 'Joan QT', 'Ethereal', 'Ethan Hansen', 'Soumyadarshan Dash', 'PCM', 'Pepe', 'WEI WANG', 'Erik', 'Anton Grigoriev', 'Femke en Wichard', 'Dicklexic Lemon', 'Gerard', 'Reeta Singh', 'No Outlet Bully Squad', 'Madison Keays', 'Victor Murphy', 'S7hapa', 'Matthew Piórczyński 2', 'Tiger Yi', 'Raul Ovalle', 'Benard Musyoka', 'Harshita Bhardwaj', 'Damian Krebs', 'Nikita Kaymonov', 'Aromon', 'Sa Mi', 'Vsevolod Orlovskiy', 'Thanart Tangtanakoon', 'Alhdemar Parra Correa', 'salmi khan', 'Rafael R. B.', 'Juan Cruz Macías Vidal', 'omar jamil', 'Devanshu Yadav', 'Raul Bisping', 'Abdirahman Mohamud', 'Samarth', 'Washington Neves', 'Sávio', 'The Wizard', 'Shreyash Jain', 'Abby Smith', 'Luis Raguzzoni', 'Vũ Quang Huy', 'Mark Wilson', 'ddclutch', 'Know Your History', 'Kaustubh 333', 'AP Silva', 'Mrithulla Padmanabhan', 'DISTRICT NERF CO.', 'EfficiencyDNA', 'Dhaval Soni', 'Moulay Taib مولاي الطيب', 'evan nix', 'Aditya Chandran', 'Ralph', 'IT Boy', 'bomcimtube', 'Dharmil Shah', 'Zhargalism Channel', 'Maggs', 'Jacko Ciar', 'Mohini Agrawal', 'Ashok Veeranala', 'Gheita Codes', 'books from Windblown', '_Dopeツ', 'Johnny Elle', 'Nabajyoti Borah', 'William Hayden', 'Noah Sky', 'agenttexx', 'Ar Period', 'SANDHYA NIMBARK', 'talking Anything', 'Yerra V S N Sai Sudheer', 'Gurkirat Singh', 'Anuj Shrivastava', 'Edmarson Fernandez', 'Atiqah shahirah', 'roshni tresa', 'Isyraf Salahudin', 'Rockstar editz', 'tech talk with zk', 'Jeyden T', 'Seif Elayouti', 'Vintage Thoughts', 'MetalGearPony', 'Ag A', 'ashwani thapa', 'Sergio Rojas', 'Beyond Triggered', 'Yara Ocaña Calvo', 'Cristian Boaventura', 'MOHSIN ALI', 'nunya biznez', 'Marmeny Infante', 'Peter Kontogeorgis', 'jovoN', 'Shahrier Ahmed', 'P Jos', 'Bawamode', 'Serena', 'GM 99', '슬기로운통계생활', 'Vitor Aléssio', 'Cyan is Sus', 'We Tube', 'Lee Nguyen', 'HICHAM', 'Danny O', 'xeress', 'Johanes Andre', 'OLUSOJI MARSH', 'skeezy', 'varun singh', 'Arpana Shekhar', 'p f', 'Tomás Marques', 'Persona Vinny', 'أحمد مجدي', 'AlicornFater', 'Fabian Gonzalez', 'arjun ravi', 'Kanimozhi Panneer Selvam', 'Leonardo Rocha', 'Shitangshu Maity', 'Fernando Moreira', 'svalbard01', 'TheAny', 'Gabriel Negrete', 'adit pandey', 'Jake Lucroy', 'acwbit', 'Nut', 'Sukanya Poddar', 'Neha Gupta', 'Meeiii', 'Geetha Ram', 'divyanshu gupta', 'Statistik och SPSS-hjälpen', 'Juni Sdr', 'Koustubh Jaiswal', 'J', 'Apurv Gholap', 'al pacino', 'Account', 'Tiger', 'Snow Ascension', 'Anjaan Ganachari', 'hakusho04', 'Yijun Shan', 'Edwin ZZ', 'Ryan Albertson', 'Sid Chatterjee', 'DepressedOrange', 'Raghav Aggrwal', 'Jose Ignacio Paguegui', 'Jose Daniel', 'Vishal', 'Naman Jain', 'Jayashree Bapat', 'Aditya Nair', 'Blenda', 'Matthew Howlett', 'Daniel S', 'Bhargava charan', 'Md Salman Khan', 'Pin Wei Tan', 'Joel Rojas Gonzalez', 'Jordan Taylor', 'Shitol Afnan', 'GamesCell', 'Shahidul Islam', 'Vatasescu Lenuta', 'Dhruv Verma', 'Amanjyot Kaur', 'Suganya Umasankar', 'Mubin Abdul kader', 'bhanu prakash', 'Toka Peka', 'Aidan L', 'Valentin Legrand', 'ᐯenus Bhatia', 'Kapil Kapoor', 'Justine R', 'L.acuña _', 'iTryToEatApples&Bananas Ting', 'Sagar Singha', 'Anupam Bharti', 'Piyush R Chauhan', 'Ratul Saha', 'AHMED SABRIOUS', 'Esteban Godoy', 'tim cook', 'Everything twisted', 'Ranshin Majere', 'Isaac Andi', 'Kwesi Afful', 'adil shahid', 'Re Cecure', 'NeshaBre', 'LN Vaishnav', 'Mintu Konwar', '121810401053 RUTTALA HEMANTH', 'atul rawat', 'Sunny Raut', 'Suraj Powar', 'Scoop Russell', 'Manav Gupta', 'Benjamin Acosta', 'Sourav Madanpuri', 'Eric Mossotti', 'Shane Catchpole', 'David Jackson', 'S S', 'Jomar B', 'Emeka Obiefuna', 'A_Vicky P', 'Michaela', 'Dawit Feleke', 'shaik fazal', 'Z M', 'Jeremy Marshall', 'Partha Sarathi Sen', 'shrey sethi', 'Abhishek Patil', 'Milton Tembe', 'Barath Roy', 'Scott Boomer', 'Jared Fontaine', 'krishna', 'Tiago', 'Mian Jalal', 'Patrick', 'Ahmed Sadek', 'Harshil Pandit', 'Vaishnav Srinidhi', 'Sharang Nimonkar', 'Gautam Chandra', 'Elliot Loo', 'Jeff KKK', 'pranav js', 'SHAHRUKH KHAN', 'Adrian Perez', 'Chandra Mouli', 'Adam Karelius', 'Anshul Sharma', 'ShivTheDev', 'STRESSED_BY_MOUNTAIN_OF_NUUBS', 'Shivansh Dubey', 'Samsu', 'Batselem Jagvaral', 'xderfszvfthgycu', 'Mike S', 'negroniwhore', 'Juan Sin Miedo', 'Siddhanth Shetty', 'Sandipan Ghosh', 'karthik jason', 'Bernas Branco', 'Arjun Mp', 'Ashwini Tulpule', 'Ebza Nian', 'اقراء', 'Samuel Jackson', 'Guru Sanjay', 'Marketing Video Tech', 'omar gaber', 'Kono', 'Dr Parminder Kaur', 'Priyankar Roychowdhury', 'levi', 'Ramiz Bin Ibrayi', 'multiforme', 'Makafui Gasu', 'Pavan K Adikar', 'Kaberi Gomes', 'phasmes fourmis', 'Arindam Banerjee', 'Felipe A. Pérez', 'Roberto Peña', 'huawei honor', 'Giordano', 'Nived Nambiar', 'Julio Rosales', 'BINDASS BABA', 'Faraz Ahmed', 'Deepali Sharma', 'Anant', 'kristopher', 'P3ACE', 'Navnath Phapale', 'Ibrahim Islam', 'Skull Greymon', 'Jose Martinez', 'Mubarek Abdi', 'Flying Duck', 'Rashid Bakhsh', 'Luiz Felipe Pereira', 'Aspirant', 'Don James', 'MS', 'Corpo Climb', 'John Park', 'Aroni Chakraborty', 'bored egeyolk', 'Infinitude', 'Melmarie Abamo', 'jbb', 'Shivam Kaushik', 'Felipe Salazar', 'Kush Bhatia', 'shourya jain', '404 Not Found', 'stinu john', 'Andy Moser', 'Joules K', 'HARISH KUMAR', 'K SRI HARSHA', '0sas', 'Typhoon-QA', '1980legend', 'tempelle m', 'Dan Leong', 'brewed script', 'Blake Hall', 'Trehnt', 'keerthi kiran', 'fraction37', 'Tobi Balogun', 'walter cabey', 'SongLyricsPro', 'shouvick karmakar', 'Coatomc', 'mike timberland', 'Lady Layne', 'Mukta T', 'Lukas J', 'João Pedro Ferreira', 'alno1', 'FRANZRANZ', 'Acor Clips', 'Amit Pandey', 'Des C.', 'Manita Jirathip', 'srinadh j', 'Sergio Mujica', 'July', 'Adrian Mark', 'Chuya Ah', 'sarika konne', 'just uploads', 'naru4real', 'Halvard Lund', 'Kevin Ja', 'Nicola Saladino', 'lord corne', 'Elise Ramsden', 'Jin Heng Tan', 'manish gupta', 'Huy Vũ Quang', 'Jenny Tumay', 'Jacob Burgess', 'Wellington Medeiros', 'Lawson Barnette', 'Giuseppe S', 'DFS', 'Alan', 'B. Salmon', 'Miguel H. De la Vega', 'Thrift Simple', 'Nandan Nambiar', \"name can't b blank\", 'Emma McMullen', 'Ambar Singh', 'Henry Dauseb', 'Lr. Prakamya Khare', 'Saiteja Netha', 'Kamal Subhani', 'Shivam Soliya', 'Mona', 'Marcos Polos', 'stefan0325', 'Red-Pill', 'ajaegbu emmanuel', 'black Dirkness', 'Curt', 'sunilveerendra vattikuti', \"Farzana's Law\", 'Chi Zhang', 'nainesh more', 'D. wolf', 'Indu Pal', 'Marvin Turner', 'Mohamed Ahmed Hanafy', 'Will Hughes', 'GT Cline', 'Poorva Pandey', 'Prafulla Gavali', 'MOULEESWARAN B', 'Vaibhav Kulkarni', 'Francesco Floridi', 'Samiul Islam', 'Abhinav Jha', 'Nishant sharma', 'Cotfas Filip', 'Tasnim Ibn Jakir', 'Solai Krishnaveni Vijaya Kumar', 'Totem of Luck', 'Tashi Sherpa', 'Mohsin Qureshi', 'ishir n', 'HilariousBGMI 🇮🇳', 'Alka Sharma', 'Nitin Malik', 'Choogy', 'Josue Suazo', 'Ruslan Suleimanov', 'GauravShikhare', 'Jorge Alejandro Zurita Silva', 'CBC Educated', 'Milka Ivanoff', 'Parth Sharma', 'mohan prakash462', 'Igor Rizvić', 'Lynette Okoroike', 'afc 123', 'Shubham Selokar', 'talha fakher', 'W Coston', 'Shaq Danial', 'Eduardo Bicelis García', 'kazi mehdi', 'Zosime22', 'N Akash', 'Roshini. erukala36', 'Aditya Jadhav', 'Athar Nayab', 'Bhadrapur Municipality', 'Monkey D Luffy', 'Ayush Raj Kashyap', 'Eddie 0705', 'dxtraem', 'Colt Carson', 'Paula K. Souza', 'Akshay Singh Chauhan', 'Kyrylo Yemets', 'Sameer Gupta', 'Rajarshi Parmar', 'Mary Mary', 'VaR', 'Kill buzzy Gamer', 'Manish SU', 'CHMARKH Elmehdi', 'DeAnalyst', 'christy usa Eris', 'Cláudio Silva', 'Kas Oju', 'angel - fear', 'Pranav Kumar', 'Watang Lipu Hadjar', 'Amit Peshawari', 'Vikram Mohan', 'Ramses Alexander Coraspe Valdez', 'nona', 'Beatrizi', 'Dalibor Banda', 'Monalisa Maharana', 'Sunil Singh', 'Timi', 'TEELOCK Mithilesh', 'Miguel 5050', 'The Truth', 'Akshay Kakade', 'Venkatesan Thangavel', 'V.P.N 7 TECH', 'Dave Tobby', 'Techviews', 'eljabollo', 'Shahin Sha', 'Haleema thul BADRIYA', 'Svend Korsgaard', 'Mayuresh Nayak', 'Abhishek Chavan', 'master', 'Dhaval Bhatt', 'Hoang Nguyen', 'Aadhi YouTube', 'Bob Salita', 'Azhar Waheed', 'Blue Plannet', 'KnightKnifer', 'Alaexander Hawkins', 'M C.', 'पकवान', 'Gnanendra B', 'Hanya Utama', 'maria marino', 'Jony Rodz', 'elmoneyyy', 'Mr. Mystiks', 'Vaibhav Negi', 'Mirza Ali', 'Nishant Reddy', 'George Iosip', 'Ullu Ka patha', 'Satabdi Panda', 'Eduardo Fernández', 'Josef Gerrard', 'The Generational Wealth Guy', 'ad hoc', 'Mel Schwan', 'Abhijeet Sharma', 'Nidhi Uchil', 'Ashwin Aadhi', 'Abhishek sidha', '-__-', '比特彭 Crypo Peng', 'Jagjit Singh', 'Z', 'Maa Mantra', 'EasonTek2398', 'Dhananjay Mali', 'Vanalovan', 'Giovanni Oyola', 'Santhosh Sp', 'Tanay Chothani', 'Caro Sare', 'reomadiga', 'Ashan Noweria', 'Jaimin Bhatt', 'Abhijay Paliwal', 'Pankhuri Kansal', 'Subrata Ruj', 'Lachlan MacUisdean', 'keshab basnet', 'sameer vishwakarma', 'Mohamed Essam', 'Shoe89', 'Albaghdadi Noah', 'Prima Consulting', 'Joshua Mur', 'OtakuLeveledUp', 'VISHNU KUMAR', 'himanshu gautam', 'VSPA TMX', 'keith ruhe', 'fashion nova', 'Elvissam1', 'Muhammad Babamia', 'tinol bhoyar', 'Yash Dalsaniya', 'Khemra', 'Karsten Collins', 'ganesh patil', 'Sevylla Gho', 'Ammar Merhbi', 'Karaokewaala', 'Feast on Your Life Podcast', 'Lipoktoshi Longkumer', 'Gez Walton', 'Aditya Alok', 'Akarsh s', 'Vikramjeet Sran', 'Matthew Bakken', 'mraaronhd', 'Digital Documentarian', 'Romit Sinha', 'Rita Azevedo', 'Mohamed Ayoub', 'Thilak Nagarajan', 'Kapil Agrawal', 'Artem Kovalenko', 'Basti Arcega', 'Tamzid Chowdhury', 'Ali Naser Zghair', 'Fatima Liban', 'Joseph J.', 'dinesh gunjan sati', 'Dreadwinger', \"Cam's Cream Cheese\", 'Aakanksha MUA', 'Alex Berk', 'Deepak Holla', '100toeface', 'Ksingh', 'Lets Game!', 'Oke Sel', 'Cindy Dao', 'maggie z', 'Troy Jackson', 'Ashok sekar', 'Delta Eevee', 'Moritz Roh', 'vien pham', 'The Human System', 'Sharda Tiwari', 'Dan Ben ami', 'Filippo Zallocco', 'L. Z', 'wird klap', 'Mohamed Azeem', 'SAA B_', 'GeoByJustin', 'LIFE IS CRAZY                            2 million', 'Kevin DaG', 'edy high', 'venugopal ganesh', 'Mark W', '19 Jin', 'Ricky Lan', 'Anuradha Ananth', 'Luke Pramudita', 'luke lu', 'Brandon Wie', 'Daniel Valami', 'Samie Ahmed', 'A', 'Enrique Gaitan', 'Roko Krstičević', 'Nomadic Dmitry', 'Theo', 'Darin Hato', 'Philippe Baillargeon', 'Bryan Arvin Kusuma', 'Austin Kaufman', 'Levi Zenone', 'Nikolai Kamenow', 'Cody Pieper', 'rhettsmedia', 'Andrew Logan', '문종환', 'Bobilentini', 'Robin B', 'Danteisnotkool D', 'K', 'Derek Lee', 'Sonofgod Jesuschrist', 'Håkan Svensson', 'Sea Zens', 'Yash Jariwala', 'Alexgs', 'Al', 'ronak mankale', 'Michael Moy', 'saintdenis11', 'Sachin Kumar', 'Rp Musiq 🎶', 'Jan Urbahn', 'serap balaban', 'Poulin Clermont', '10Meisterbälle', 'Gian-Andrea Egli', 'Lukas Høegsberg Olin', 'Crecked', 'H Pradip', 'shubham mathur', 'Issie wizzie', 'Allan Novodvorski', 'Poor Yoga', 'Philippe LAMBINET', 'Omparkash Inania', 'Christian Sanhueza', 'Lukman Ali', 'Raghav Rathi', 'qnarg', 'joao gabriel oliveira', 'Sheetal Borar', 'Azzray', 'Paul Kennedy', 'Willian Rocha', 'im jess', 'OM3N98', 'Arthur Hahn', 'Chi Vo', '18EBKCS108_TARUN _SHARMA', 'Sui Kam Muk', 'Saad Choudhry', 'Nate Rodriguez', 'rootytuners', 'Poliarinis', 'Remi Adebayo', 'aditya srivastava', 'Anubhav Tyagi', 'Nishant Sharma', 'Marc Testarossa', 'Mutuku Kyenze', 'Rickey Di Dio', 'Enchik', 'Tic Tech Toe', 'Cem Civelek', '18 pregnant and proud', 'inventorOz84', 'tony', 'Mac Hyman', 'Akash Lagun', 'LA', 'Siddhant Choudhary', 'Julian ausserbauer', 'Dhairya Patel', 'Sujoy Dhawa', 'Israel Pérez Vargas', 'One Love', 'kevin waag', 'Meladolche', 'Ewo Lam', 'Greg Scott', 'yahya khan', 'Jesse Chao', 'Aston Kwok', 'Im not Ryuu', 'nicson fadriz', 'Marc Blanchet', '⭐️ Kun (aka Kunkuma) 🐻\\u200d❄️', 'Leandro S.', 'Alessandro Bartoli', 'Pratham Sethi', 'Monica Zardo', 'K Steven', 'Postell Carter', 'Alex S.', 'Dhachina Moorthy', 'Atiba Franklyn', 'Ruben D', 'Chathura H Silva', 'Hugo Boia', 'Aarav Singh', 'David Arguello', 'TheMusicloverdude', 'Nirupam Sutradhar', 'Tanveer Singh', 'Seth Amiel Degracia', 'Mr. IDGAF', 'garydrago', 'Goose Seey', 'krosser2123', 'Aneeta K', 'kk', 'Mehdi M', 'Zakeya Alsada', 'Kohei', 'Can Dost Yavuz', 'Amsa', 'X X X', 'Htet Lin Aung', 'Faraz Saeed', 'Alexandre Jacinto', 'Daniela Da Silva', 'Kristopher Driver', 'Danilo Anderson de Moura Chagas', 'WarlockHaseo', 'Victor Figueroa', 'Wanjun Gu', 'Pyonz24', 'Chiu, Gerard James V.', 'TheDiabloMadness', 'Chibuikem Oparaoji', 'Yepster', 'zui xiao', 'SeeMaxPlay', 'Hassan Faheem', 'PRACKERTRACKER', 'Junior Shepherd', 'Aditya Ariewijaya', 'Priyank', 'Alberto Hervás', 'Gus', 'Think Aloud', 'Ekin Elçi', 'Lemon Bitter', 'Martin Giroux', 'zeeshan khan', 'Drump Dump', 'shuja aziz', 'A M', 'Norfaidhi Akram', 'PREM CHANDER', 'Federico Augusto Llanes', 'Julio César Uribe', '19881141a55507651eef80ac27d2c2a1', 'Steve Stifler', 'Jean Saw', 'Christos Ralbis', 'Abbas ali Kumaili', 'Fahad Bin Sakhawat', 'DoD_YT ENT', 'Anton Karlsson', 'Venkat Dinesh', 'Jono', 'british internet user', 'Sip Zz', 'TheEmrobe', 'madmotorcyclist', 'taurus20077', 'Tyreese Smith', 'Jerry Westbrook', 'Clumsy 3207', 'Shruti Nayak', 'Nazir El-Halabi', 'J L', 'Mockedarche', 'Olle Green', 'Ayush Gupta', 'Keng Kkun', 'HandlewithcareVibes', 'Taco Revenge', 'Simon Morgan', 'Abdul Ghani', 'Simple Strategy', 'S D', 'AlpineIce', 'Tech WithMe', 'Jack F', 'Christian Bautista', 'Aygün Karlı', 'Kumar Ashwarya', 'Andres Mosqueira', 'EDUARDO FRANCISCO RAFAEL', 'Prabhu Prakash', 'Emanuel Acosta Gutierrez', 'Merlins Robe', 'Thai Vu Nguyen', 'Prudhvi07', 'Occorr', 'V G', 'Craig Hector', 'Emanuel E', '10 Minute Tech Tips', 'Sreenivas Ramineni', 'Alex Hristache', 'Mercy Dlaba', 'nabeel nassan', 'Will Minton', 'Danny James', 'YASH KUMAR JHA', 'Derik Melton', 'Mustapha El Ouahabi', 'Juck Chao']\n"
          ]
        }
      ]
    },
    {
      "cell_type": "markdown",
      "source": [
        "Si procede ora con la costruzione del grafo vero e proprio. \n",
        "Per fare ciò è stato inizialmente creato un grafo vuoto e, successivamente:\n",
        "- sono stati generati i nodi video in base alla lista *videos* creata in precedenza, definiti appartenenti al gruppo 1;\n",
        "- sono stati generati i nodi autore, in base alla lista *authors* creata in precedenza, definiti appartenenti al gruppo 2;\n",
        "- sono stati generati gli archi, in base al dataset di partenza, collegando così ciascun autore di un commento al relativo video commentato."
      ],
      "metadata": {
        "id": "Rd8lQxuRrJ2Q"
      }
    },
    {
      "cell_type": "code",
      "source": [
        "G = nx.Graph()\n",
        "G.add_nodes_from(videos, size=40, group=1) # aggiungiamo prima i nodi video (gruppo 1)\n",
        "G.add_nodes_from(authors, size=10, group=2) # aggiungiamo poi i nodi autore (gruppo 2)\n",
        "for i in range(len(df)):\n",
        "  G.add_edge(df['author_name'][i], df['vid_title'][i]) # colleghiamo gli utenti ai video commentati"
      ],
      "metadata": {
        "id": "ilU_JOlr5MgY"
      },
      "execution_count": 7,
      "outputs": []
    },
    {
      "cell_type": "markdown",
      "source": [
        "Trattandosi di un grafo molto grande e caratterizzato da un elevato numero di nodi, per visualizzarlo si è deciso di implementare la visualizzazione per mezzo delle funzioni disponibili nel pacchetto *pyvis*.\n",
        "\n",
        "In seguito viene riportato il link relativo a tale pacchetto: https://pyvis.readthedocs.io/en/latest/tutorial.html.\n",
        "\n",
        "Per una facilità interpretativa, i nodi video sono stati colorati di un colore diverso (giallo) rispetto ai nodi autore (blu); sono inoltre definiti da dimensione diverse.\n",
        "\n",
        "*N.B.: per vedere la visualizzazione è necessario scaricare il file G.html che comparirà dopo aver eseguito la shell sotto.*"
      ],
      "metadata": {
        "id": "y0RjIjUj1xG-"
      }
    },
    {
      "cell_type": "code",
      "source": [
        "net = Network('500px', '500px')\n",
        "net.from_nx(G)\n",
        "# net.show_buttons(filter_=['physics'])\n",
        "net.show('G.html')"
      ],
      "metadata": {
        "id": "rH56cYvKywYw"
      },
      "execution_count": null,
      "outputs": []
    },
    {
      "cell_type": "markdown",
      "source": [
        "## Nodes degree"
      ],
      "metadata": {
        "id": "QwpVTx8u3ki5"
      }
    },
    {
      "cell_type": "markdown",
      "source": [
        "Viene calcolato il grado dei nodi video (ovvero il numero di archi incidenti), così da vedere quali hanno un engagement maggiore e quali minore.\n",
        "\n",
        "In seguito vengono riportati i titoli dei 5 migliori video ed i titoli dei 5 peggiori."
      ],
      "metadata": {
        "id": "enmUWiPV6vpB"
      }
    },
    {
      "cell_type": "code",
      "source": [
        "videos_degree = {}\n",
        "for video in videos:\n",
        "  degree = G.degree[video]\n",
        "  videos_degree[video] = degree\n",
        "print(videos_degree)"
      ],
      "metadata": {
        "colab": {
          "base_uri": "https://localhost:8080/"
        },
        "id": "hYoE4z-A6Qm6",
        "outputId": "879632f2-64d0-411b-cfb7-7f9a0966fcb8"
      },
      "execution_count": 8,
      "outputs": [
        {
          "output_type": "stream",
          "name": "stdout",
          "text": [
            "{'Become a DATA ANALYST with NO degree?!? The Google Data Analytics Professional Certificate': 996, \"DON'T get a Mac for Data Science?? - MacOS Vs. Windows\": 91, 'Day in the life of a data analyst': 109, 'How I Would Learn to be a Data Analyst': 134, 'Get a JOB w/ Google Data Analytics Certificate?!? (ft. Certificate Holders)': 257, 'BEST JOBS in Data Science': 100, 'Power BI vs Tableau - Best BI Tool': 121, 'Top Courses to Become a Data Analyst': 140, 'M1 Max/Pro vs M1 Macbook for Data Science.... should you?!?': 61, 'M1 Chip is as FAST as M1 Max!!! 🤯  (13\" Mac Air Vs. 14\" Mac Pro) #shorts': 25, 'Why you should NOT be a Data Analyst': 76, 'Use THIS to showcase EXPERIENCE in Data Science': 42, 'Install your favorite Windows app on M1 Mac - ft. Parallels': 106, 'STOP using Spreadsheets for Everything!': 226, 'Standout as a Data Analyst with THIS TOOL': 70, 'Data Scientist vs Data Analyst (funny!)': 152, 'Data Analyst vs. Engineer Vs. Scientist (funny!)': 70, 'Python Vs R (funny!)': 114, 'M1 Macbook Air vs Pro (8 vs 16 GB) for Data Science': 113, 'Learn PYTHON to be a DATA ANALYST?!? (or is R enough...)': 158, 'Get NOTICED in Data Science!!! (3 types of GREAT projects)': 65, 'Parameters (Create & Use in Calculated Fields and/or Visuals) - Tableau Tutorial P.7': 3, 'THIS got me my job as a Data Analyst - My portfolio tip': 119, 'How to show EXPERIENCE... when you have NONE?!?': 44, 'Transition into Data Science - My Tips & Story': 79, 'Mac Vs PC - BEST for Data Science': 72, 'Staying Motivated in Data Science': 34, 'Google vs IBM Data Analyst Certificate - BEST Certificate for Data Analysts': 376, 'How NOT to learn Python for Data Science': 65, 'Data Science - Expectation vs Reality (funny!) - ft. @Ken Jee': 91, 'Python Project  - COUNTING MY BIKE JUMPS!!': 27, 'Python For & While Loops for Data Science / Data Analysis - P.3': 8, 'Windows on the M1 Mac - What are your options?': 236, 'Install Python for Data Science on Mac & Windows (PC) with Anaconda - P.1': 5, 'M1 vs Intel Mac for Data Science': 104, 'Certificates vs Degree for Data Analysts (ft. Google Data Analytics Professional Certificate)': 63, 'Building a bot to scrape job data… How NOT to collect data': 52, 'Connect Google Sheets to Tableau & Joining Data - Tableau Tutorial P.1': 6, \"Data Analyst's WFH Setup & Upgrades\": 32, 'How I learn Data Science as a Data Analyst #shorts': 14, 'How To Use Tableau Desktop Controls - Tableau Tutorial P.2': 2, 'Python If Statements for Data Science / Data Analysis - P.2': 9, 'Lambda Functions for Data Science / Data Analysis - Python P.6': 6, 'How to get Data Analytics side jobs - NEW LinkedIn Feature  #shorts': 6, 'Install VS Code with Python for Data Science / Data Analysis - P.3': 6, 'Python List Comprehension for Data Science / Data Analysis - P.4': 4, 'The BIGGEST MISTAKE when starting a data project!': 51, 'Python for M1 Mac vs Intel (SPOILER: M1 is 2x faster)': 26, 'Understanding Virtual Environments for Data Science / Data Analysis - P.4': 20, 'Using VS Code with Python for Data Science / Data Analysis - P.5': 24, 'How to run Python for Data Science - Editors vs IDEs - P.2': 6, 'Python Objects frequently used in Data Science / Data Analysis - P.1': 15, 'Upload your dashboard to Tableau Public  - Tableau Tutorial P.10': 5, 'Python Functions for Data Science / Data Analysis - P.5': 6, \"Python for Data Science / Analysis  ft. 'The Office' Dataset - P.0\": 7, 'How To Create a Dashboard - Tableau Tutorial P.9': 6, 'Calculated Fields in Tableau (Formulas & IF Statements) - Tableau Tutorial P.6': 2, 'Data Science shortcuts for Mac': 9, 'Create Stacked Bar Chart (and any other visuals EASILY!) w/ Show Me! - Tableau Tutorial P.4': 2, 'M1 vs Intel Mac for Python #shorts': 2, 'Dimensions Vs Measures  (Blue Vs Green Data) - Tableau Tutorial P.3': 2, 'Top Non-technical Skills for Business Intelligence': 1, 'What is Business Intelligence (BI)? #shorts': 1, 'Totals, Average Lines, & Trend Lines (Analytics Pane) - Tableau Tutorial P.8': 2, 'Conditional Format Tables in Tableau (Like Excel!) - Tableau Tutorial P.5': 1}\n"
          ]
        }
      ]
    },
    {
      "cell_type": "code",
      "source": [
        "print(sorted(videos_degree, key=videos_degree.get, reverse=True)[:5]) # titoli dei video con più engagement\n",
        "print(sorted(videos_degree, key=videos_degree.get, reverse=False)[:5]) # titoli dei video con meno engagement"
      ],
      "metadata": {
        "colab": {
          "base_uri": "https://localhost:8080/"
        },
        "id": "4uvvCKW87kcd",
        "outputId": "80f1df5b-9004-45e1-cbbc-017ba929a6b5"
      },
      "execution_count": null,
      "outputs": [
        {
          "output_type": "stream",
          "name": "stdout",
          "text": [
            "['Become a DATA ANALYST with NO degree?!? The Google Data Analytics Professional Certificate', 'Google vs IBM Data Analyst Certificate - BEST Certificate for Data Analysts', 'Get a JOB w/ Google Data Analytics Certificate?!? (ft. Certificate Holders)', 'Windows on the M1 Mac - What are your options?', 'STOP using Spreadsheets for Everything!']\n",
            "['Top Non-technical Skills for Business Intelligence', 'What is Business Intelligence (BI)? #shorts', 'Conditional Format Tables in Tableau (Like Excel!) - Tableau Tutorial P.5', 'How To Use Tableau Desktop Controls - Tableau Tutorial P.2', 'Calculated Fields in Tableau (Formulas & IF Statements) - Tableau Tutorial P.6']\n"
          ]
        }
      ]
    },
    {
      "cell_type": "code",
      "source": [
        "all_values = videos_degree.values()\n",
        "all_values = sorted(all_values, reverse=True)\n",
        "print(all_values[:5]) # 5 valori più elevati di degree dei nodi video\n",
        "print(all_values[-5:]) # 5 valori più bassi di degree dei nodi video"
      ],
      "metadata": {
        "colab": {
          "base_uri": "https://localhost:8080/"
        },
        "id": "VgkNFjPU_I17",
        "outputId": "bda5f17c-4538-4dcf-896e-21cada736aa8"
      },
      "execution_count": null,
      "outputs": [
        {
          "output_type": "stream",
          "name": "stdout",
          "text": [
            "[996, 376, 257, 236, 226]\n",
            "[2, 2, 1, 1, 1]\n"
          ]
        }
      ]
    },
    {
      "cell_type": "markdown",
      "source": [
        "Il video *'Become a DATA ANALYST with NO degree?!? The Google Data Analytics Professional Certificate'* è caratterizzato da un grado estremamente maggiore rispetto a quello di tutti gli altri video del canale. \n",
        "\n",
        "Gli ultimi 3 video sono caratterizzati da un unico commento."
      ],
      "metadata": {
        "id": "2HMpKHtjHlTA"
      }
    },
    {
      "cell_type": "markdown",
      "source": [
        "## Centrality\n",
        "\n",
        "Vengono calcolati i seguenti valori di centralità per i nodi video:\n",
        "\n",
        "- degree centrality (numero di connessioni tra un nodo e tutti gli altri)\n",
        "- closeness centrality (misura la vicinanza di un nodo a tutti gli altri della rete, non solo quelli a cui è direttamente collegato)\n",
        "- betweeness centrality (misura l’importanza di un nodo nelle «comunicazioni» con gli altri nodi e \n",
        "quindi l’influenza all'interno di una rete in virtù del «controllo sulle informazioni» che passano, \n",
        "pertanto si riferisce a quanto un nodo sia di passaggio)"
      ],
      "metadata": {
        "id": "-ZZJmOVGH63L"
      }
    },
    {
      "cell_type": "code",
      "source": [
        "from networkx import degree_centrality\n",
        "from networkx import closeness_centrality\n",
        "from networkx.algorithms.centrality.betweenness import betweenness_centrality"
      ],
      "metadata": {
        "id": "qlWJjcChAzNa"
      },
      "execution_count": null,
      "outputs": []
    },
    {
      "cell_type": "code",
      "source": [
        "a = degree_centrality(G)\n",
        "diz_centrality = dict((k, a[k]) for k in videos if k in a)"
      ],
      "metadata": {
        "id": "BO0_PdgRA0Xi"
      },
      "execution_count": null,
      "outputs": []
    },
    {
      "cell_type": "code",
      "source": [
        "b = closeness_centrality(G, wf_improved=True)\n",
        "diz_closeness = dict((k, b[k]) for k in videos if k in b)"
      ],
      "metadata": {
        "id": "kxDchXN1A0v5"
      },
      "execution_count": null,
      "outputs": []
    },
    {
      "cell_type": "code",
      "source": [
        "c = betweenness_centrality(G)\n",
        "diz_betweenness = dict((k, c[k]) for k in videos if k in c)"
      ],
      "metadata": {
        "id": "Q-PT4TllLct_"
      },
      "execution_count": null,
      "outputs": []
    },
    {
      "cell_type": "markdown",
      "source": [
        "Ora vengono riportati i 5 video più rilevanti, a seconda delle 3 diverse misure di centralità:"
      ],
      "metadata": {
        "id": "pPp8SbnH0u14"
      }
    },
    {
      "cell_type": "code",
      "source": [
        "print(sorted(diz_centrality, key=diz_centrality.get, reverse=True)[:5])\n",
        "print(sorted(diz_closeness, key=diz_closeness.get, reverse=True)[:5])\n",
        "print(sorted(diz_betweenness, key=diz_betweenness.get, reverse=True)[:5])"
      ],
      "metadata": {
        "colab": {
          "base_uri": "https://localhost:8080/"
        },
        "id": "SIuV4kpS0uIl",
        "outputId": "de658666-6750-4191-ea02-29f1b01ae138"
      },
      "execution_count": null,
      "outputs": [
        {
          "output_type": "stream",
          "name": "stdout",
          "text": [
            "['Become a DATA ANALYST with NO degree?!? The Google Data Analytics Professional Certificate', 'Google vs IBM Data Analyst Certificate - BEST Certificate for Data Analysts', 'Get a JOB w/ Google Data Analytics Certificate?!? (ft. Certificate Holders)', 'Windows on the M1 Mac - What are your options?', 'STOP using Spreadsheets for Everything!']\n",
            "['Become a DATA ANALYST with NO degree?!? The Google Data Analytics Professional Certificate', 'Google vs IBM Data Analyst Certificate - BEST Certificate for Data Analysts', 'Get a JOB w/ Google Data Analytics Certificate?!? (ft. Certificate Holders)', 'Windows on the M1 Mac - What are your options?', 'STOP using Spreadsheets for Everything!']\n",
            "['Become a DATA ANALYST with NO degree?!? The Google Data Analytics Professional Certificate', 'Google vs IBM Data Analyst Certificate - BEST Certificate for Data Analysts', 'Windows on the M1 Mac - What are your options?', 'Get a JOB w/ Google Data Analytics Certificate?!? (ft. Certificate Holders)', 'STOP using Spreadsheets for Everything!']\n"
          ]
        }
      ]
    },
    {
      "cell_type": "markdown",
      "source": [
        "I video coincidono; si può notare solo uno scambio per quanto riguarda la *betweeneess centrality* tra il terzo ed il quarto video. Inoltre è evidente che i video ottenuti siano gli stessi che sono caratterizzati da un grado più elevato. Da questo è possibile dedurre che, giustamente, più un video è virale, più è fondamentale per la rete e per permettere il passaggio dell'informazione all'interno della stessa."
      ],
      "metadata": {
        "id": "yTlGdeYl1S1P"
      }
    },
    {
      "cell_type": "markdown",
      "source": [
        "## Community Detection - Girvan Newman"
      ],
      "metadata": {
        "id": "wztodDFh2S_w"
      }
    },
    {
      "cell_type": "markdown",
      "source": [
        "Per il rilevamento e l'analisi delle community e relative strutture all'interno della rete, è stato utilizzato il metodo di community detection basato sull'algoritmo di Girvan Newman. Tale algoritmo elimina iterativamente gli archi caratterizzati dal numero più elevato di sentieri più corti tra i nodi che passano attraverso loro. Rimuovendo tali archi uno alla volta, la rete viene divisa in parti più piccole, dette *communities*."
      ],
      "metadata": {
        "id": "T_ZueywOHNcX"
      }
    },
    {
      "cell_type": "code",
      "source": [
        "result = nx.algorithms.community.centrality.girvan_newman(G) #, most_valuable_edge=None)\n",
        "communities = next(result)\n",
        "len(communities)"
      ],
      "metadata": {
        "colab": {
          "base_uri": "https://localhost:8080/"
        },
        "outputId": "becaad0f-2e9a-4b9c-c562-e075c00087f8",
        "id": "bXaRe7Tn-vvP"
      },
      "execution_count": null,
      "outputs": [
        {
          "output_type": "execute_result",
          "data": {
            "text/plain": [
              "6"
            ]
          },
          "metadata": {},
          "execution_count": 6
        }
      ]
    },
    {
      "cell_type": "code",
      "source": [
        "communities_len = []\n",
        "for i in range(len(communities)):\n",
        "  communities_len.append(len(list(communities)[i]))\n",
        "print(communities_len) # numerosità delle communities"
      ],
      "metadata": {
        "colab": {
          "base_uri": "https://localhost:8080/"
        },
        "outputId": "9bcb76ac-e53e-49de-a5ba-30c5fca9b177",
        "id": "DAk7kTPs-1qE"
      },
      "execution_count": null,
      "outputs": [
        {
          "output_type": "stream",
          "name": "stdout",
          "text": [
            "[3750, 323, 3, 2, 2, 2]\n"
          ]
        }
      ]
    },
    {
      "cell_type": "markdown",
      "source": [
        "Viene calcolata la modularità della rete:"
      ],
      "metadata": {
        "id": "nCZu2776NiTC"
      }
    },
    {
      "cell_type": "code",
      "source": [
        "modularity = nx.algorithms.community.quality.modularity(G, communities=communities)"
      ],
      "metadata": {
        "id": "Zrloijpe1w8Q"
      },
      "execution_count": null,
      "outputs": []
    },
    {
      "cell_type": "markdown",
      "source": [
        "In seguito vengono riportate le community rilevate (anche graficamente):"
      ],
      "metadata": {
        "id": "I5sh6OKlNnlP"
      }
    },
    {
      "cell_type": "code",
      "source": [
        "G_gn = G # grafo con le communities\n",
        "for el in range(len(communities)):\n",
        "  for i in range(len(list(communities[el]))):\n",
        "    G_gn.nodes[list(communities[el])[i]]['group'] = el"
      ],
      "metadata": {
        "id": "rUgq-_hQ-7I_"
      },
      "execution_count": null,
      "outputs": []
    },
    {
      "cell_type": "code",
      "source": [
        "net_greedy = Network('500px', '500px')\n",
        "net_greedy.from_nx(G_gn)\n",
        "net_greedy.show('G_gn.html') # plot del grafo con le communities"
      ],
      "metadata": {
        "id": "sFAPQ5xL-9xd"
      },
      "execution_count": null,
      "outputs": []
    },
    {
      "cell_type": "markdown",
      "source": [
        "## Community Detection - Greedy modularity based approach\n",
        "\n",
        "Dato che il metodo di community detection provato precedentemente non ha portato a risultati soddisfacenti, si è optato per una seconda metodologia, ovvero la *Greedy modularity based approach*. \n",
        "\n",
        "I risultati ottenuti sono più interessanti di prima, in quanto l'algoritmo individua 29 diverse community all'interno della rete, di dimensionalità diverse. É interessante notare come i nodi video appartenenti ad una stessa comunità siano spesso caratterizzati da un filone logico/descrittivo (ad esempio una serie di video riguardanti il linguaggio di programmazione Python)."
      ],
      "metadata": {
        "id": "-ymLl5_LRj9o"
      }
    },
    {
      "cell_type": "code",
      "source": [
        "communities = sorted(nx.algorithms.community.greedy_modularity_communities(G), key=len, reverse=True)\n",
        "len(communities) # quante communities"
      ],
      "metadata": {
        "colab": {
          "base_uri": "https://localhost:8080/"
        },
        "id": "P-dr1UIaDNgh",
        "outputId": "25c23cce-2113-466a-9cb4-b5b613f0e472"
      },
      "execution_count": null,
      "outputs": [
        {
          "output_type": "execute_result",
          "data": {
            "text/plain": [
              "29"
            ]
          },
          "metadata": {},
          "execution_count": 16
        }
      ]
    },
    {
      "cell_type": "code",
      "source": [
        "communities_len = []\n",
        "for i in range(len(communities)):\n",
        "  communities_len.append(len(list(communities)[i]))\n",
        "print(communities_len) # numerosità delle communities"
      ],
      "metadata": {
        "colab": {
          "base_uri": "https://localhost:8080/"
        },
        "id": "v_lHjPKUN9OW",
        "outputId": "47a4c378-3d28-4216-e9a6-6d53f726b4da"
      },
      "execution_count": null,
      "outputs": [
        {
          "output_type": "stream",
          "name": "stdout",
          "text": [
            "[897, 494, 330, 215, 213, 205, 182, 169, 160, 153, 125, 112, 101, 100, 99, 95, 90, 76, 66, 66, 36, 29, 29, 21, 10, 3, 2, 2, 2]\n"
          ]
        }
      ]
    },
    {
      "cell_type": "code",
      "source": [
        "G_greedy = G # grafo con le communities\n",
        "for el in range(len(communities)):\n",
        "  for i in range(len(list(communities[el]))):\n",
        "    G_greedy.nodes[list(communities[el])[i]]['group'] = el"
      ],
      "metadata": {
        "id": "5vOjrZYBLDR4"
      },
      "execution_count": null,
      "outputs": []
    },
    {
      "cell_type": "code",
      "source": [
        "net_greedy = Network('500px', '500px')\n",
        "net_greedy.from_nx(G_greedy)\n",
        "# net.show_buttons(filter_=['physics'])\n",
        "net_greedy.show('G_greedy.html') # plot del grafo con le communities"
      ],
      "metadata": {
        "id": "ic0TrAGgDNIK"
      },
      "execution_count": null,
      "outputs": []
    },
    {
      "cell_type": "code",
      "source": [
        "modularity_greedy = nx.algorithms.community.quality.modularity(G, communities=communities)\n",
        "modularity_greedy # opzionale"
      ],
      "metadata": {
        "colab": {
          "base_uri": "https://localhost:8080/"
        },
        "id": "PZWxwjrpONJG",
        "outputId": "2a0f07f8-dcb4-4957-f2df-0af5a05e7140"
      },
      "execution_count": null,
      "outputs": [
        {
          "output_type": "execute_result",
          "data": {
            "text/plain": [
              "0.7770671329972606"
            ]
          },
          "metadata": {},
          "execution_count": 19
        }
      ]
    },
    {
      "cell_type": "markdown",
      "source": [
        "Vedendo che i video caratterizzati da uno stesso macro argomento (Python ad esempio) sono caratterizzati da una serie di interazioni che ne permettono l'individuazione come comunità, risulta interessante condurre un'ulteriore Social Network Analisi, così da riuscire a carpire più informazione possibile sull'argomento d'interesse."
      ],
      "metadata": {
        "id": "eQDD-MXPMGr5"
      }
    },
    {
      "cell_type": "markdown",
      "source": [
        "## Community detection for the videos in the Python playlist"
      ],
      "metadata": {
        "id": "7qC-ufEaQMJS"
      }
    },
    {
      "cell_type": "markdown",
      "source": [
        "Si procede ora con la seconda Social Network Analysis. I nodi sono rappresentati solamente dagli utenti che hanno commentato i video delle playlist *Python Basics* e *Python Setup*, mentre gli archi sono i video appartenenti a tali playlist. In questo modo gli utenti che hanno commentato uno o più stessi video risultano collegati da un arco caratterizzato da un peso proporzionale al numero di video con cui entrambi hanno interagito.\n",
        "\n",
        "Tale procedura potrebbe essere estesa all'intero dataset (tutti i video dunque), ma i tempi computazionali risulterebbero molto pesanti. Per questo motivo, si è deciso di effettuare questa analisi su due playlist collegate e definite da un argomento comune, ovvero Python, così da verificare se e come gli utenti rimangono attivi nell'arco di produzione di una serie di video.\n",
        "\n",
        "I nomi specifici delle playlist analizzate sono *Python Basics*, *Python Setup* e sono visibili al seguente link Youtube: https://www.youtube.com/c/LukeBarousse/playlists."
      ],
      "metadata": {
        "id": "DrS8j4I5_qLY"
      }
    },
    {
      "cell_type": "markdown",
      "source": [
        "Viene generato un nuovo dataset, con un video per ogni riga ed una colonna *authors*, variabile caratterizzata da una lista contenente tutti gli autori che hanno commentato il relativo video.\n",
        "\n",
        "Il dataset *new* risulta dunque costituito da 65 righe (ovvero i video del canale Youtube) e 2 colonne: titolo del video e lista di persone che hanno commentato il relativo video."
      ],
      "metadata": {
        "id": "alIzF4FwBFTl"
      }
    },
    {
      "cell_type": "code",
      "source": [
        "grouped = df.groupby(['vid_title'])['author_name'].apply(list)\n",
        "new = pd.DataFrame({'videos':grouped.index, 'authors':grouped.values})\n",
        "new"
      ],
      "metadata": {
        "colab": {
          "base_uri": "https://localhost:8080/",
          "height": 423
        },
        "id": "7LIT0ywNj6Jy",
        "outputId": "06e5ce04-b628-4708-8a50-8c08a77f7e4d"
      },
      "execution_count": 9,
      "outputs": [
        {
          "output_type": "execute_result",
          "data": {
            "text/html": [
              "\n",
              "  <div id=\"df-e506a174-56b2-4982-8b84-cbc03deecae5\">\n",
              "    <div class=\"colab-df-container\">\n",
              "      <div>\n",
              "<style scoped>\n",
              "    .dataframe tbody tr th:only-of-type {\n",
              "        vertical-align: middle;\n",
              "    }\n",
              "\n",
              "    .dataframe tbody tr th {\n",
              "        vertical-align: top;\n",
              "    }\n",
              "\n",
              "    .dataframe thead th {\n",
              "        text-align: right;\n",
              "    }\n",
              "</style>\n",
              "<table border=\"1\" class=\"dataframe\">\n",
              "  <thead>\n",
              "    <tr style=\"text-align: right;\">\n",
              "      <th></th>\n",
              "      <th>videos</th>\n",
              "      <th>authors</th>\n",
              "    </tr>\n",
              "  </thead>\n",
              "  <tbody>\n",
              "    <tr>\n",
              "      <th>0</th>\n",
              "      <td>BEST JOBS in Data Science</td>\n",
              "      <td>[guiseppehammer, fernleaf1, p s, Lambda Citize...</td>\n",
              "    </tr>\n",
              "    <tr>\n",
              "      <th>1</th>\n",
              "      <td>Become a DATA ANALYST with NO degree?!? The Go...</td>\n",
              "      <td>[R, El_Shaddai Fire Ministries, South India., ...</td>\n",
              "    </tr>\n",
              "    <tr>\n",
              "      <th>2</th>\n",
              "      <td>Building a bot to scrape job data… How NOT to ...</td>\n",
              "      <td>[Laxya Berde, Cara Ziegel, redmash beats, Stor...</td>\n",
              "    </tr>\n",
              "    <tr>\n",
              "      <th>3</th>\n",
              "      <td>Calculated Fields in Tableau (Formulas &amp; IF St...</td>\n",
              "      <td>[Anas El-Sahly, Mustapha El Ouahabi]</td>\n",
              "    </tr>\n",
              "    <tr>\n",
              "      <th>4</th>\n",
              "      <td>Certificates vs Degree for Data Analysts (ft. ...</td>\n",
              "      <td>[Orlando, Get Things Built, S E, Rema Khiangte...</td>\n",
              "    </tr>\n",
              "    <tr>\n",
              "      <th>...</th>\n",
              "      <td>...</td>\n",
              "      <td>...</td>\n",
              "    </tr>\n",
              "    <tr>\n",
              "      <th>60</th>\n",
              "      <td>Use THIS to showcase EXPERIENCE in Data Science</td>\n",
              "      <td>[Germano Vieira, dinhquy, Andrew, Shams Shaikh...</td>\n",
              "    </tr>\n",
              "    <tr>\n",
              "      <th>61</th>\n",
              "      <td>Using VS Code with Python for Data Science / D...</td>\n",
              "      <td>[yevgeniy Bondar, Georgina Zhou, BXJacky, Pabl...</td>\n",
              "    </tr>\n",
              "    <tr>\n",
              "      <th>62</th>\n",
              "      <td>What is Business Intelligence (BI)? #shorts</td>\n",
              "      <td>[Mercy Dlaba]</td>\n",
              "    </tr>\n",
              "    <tr>\n",
              "      <th>63</th>\n",
              "      <td>Why you should NOT be a Data Analyst</td>\n",
              "      <td>[sskylark _, Daniel Hallam, TheSweetAmy0, Hami...</td>\n",
              "    </tr>\n",
              "    <tr>\n",
              "      <th>64</th>\n",
              "      <td>Windows on the M1 Mac - What are your options?</td>\n",
              "      <td>[rEvolver, David G., Lemonade, Ralph Buoncrist...</td>\n",
              "    </tr>\n",
              "  </tbody>\n",
              "</table>\n",
              "<p>65 rows × 2 columns</p>\n",
              "</div>\n",
              "      <button class=\"colab-df-convert\" onclick=\"convertToInteractive('df-e506a174-56b2-4982-8b84-cbc03deecae5')\"\n",
              "              title=\"Convert this dataframe to an interactive table.\"\n",
              "              style=\"display:none;\">\n",
              "        \n",
              "  <svg xmlns=\"http://www.w3.org/2000/svg\" height=\"24px\"viewBox=\"0 0 24 24\"\n",
              "       width=\"24px\">\n",
              "    <path d=\"M0 0h24v24H0V0z\" fill=\"none\"/>\n",
              "    <path d=\"M18.56 5.44l.94 2.06.94-2.06 2.06-.94-2.06-.94-.94-2.06-.94 2.06-2.06.94zm-11 1L8.5 8.5l.94-2.06 2.06-.94-2.06-.94L8.5 2.5l-.94 2.06-2.06.94zm10 10l.94 2.06.94-2.06 2.06-.94-2.06-.94-.94-2.06-.94 2.06-2.06.94z\"/><path d=\"M17.41 7.96l-1.37-1.37c-.4-.4-.92-.59-1.43-.59-.52 0-1.04.2-1.43.59L10.3 9.45l-7.72 7.72c-.78.78-.78 2.05 0 2.83L4 21.41c.39.39.9.59 1.41.59.51 0 1.02-.2 1.41-.59l7.78-7.78 2.81-2.81c.8-.78.8-2.07 0-2.86zM5.41 20L4 18.59l7.72-7.72 1.47 1.35L5.41 20z\"/>\n",
              "  </svg>\n",
              "      </button>\n",
              "      \n",
              "  <style>\n",
              "    .colab-df-container {\n",
              "      display:flex;\n",
              "      flex-wrap:wrap;\n",
              "      gap: 12px;\n",
              "    }\n",
              "\n",
              "    .colab-df-convert {\n",
              "      background-color: #E8F0FE;\n",
              "      border: none;\n",
              "      border-radius: 50%;\n",
              "      cursor: pointer;\n",
              "      display: none;\n",
              "      fill: #1967D2;\n",
              "      height: 32px;\n",
              "      padding: 0 0 0 0;\n",
              "      width: 32px;\n",
              "    }\n",
              "\n",
              "    .colab-df-convert:hover {\n",
              "      background-color: #E2EBFA;\n",
              "      box-shadow: 0px 1px 2px rgba(60, 64, 67, 0.3), 0px 1px 3px 1px rgba(60, 64, 67, 0.15);\n",
              "      fill: #174EA6;\n",
              "    }\n",
              "\n",
              "    [theme=dark] .colab-df-convert {\n",
              "      background-color: #3B4455;\n",
              "      fill: #D2E3FC;\n",
              "    }\n",
              "\n",
              "    [theme=dark] .colab-df-convert:hover {\n",
              "      background-color: #434B5C;\n",
              "      box-shadow: 0px 1px 3px 1px rgba(0, 0, 0, 0.15);\n",
              "      filter: drop-shadow(0px 1px 2px rgba(0, 0, 0, 0.3));\n",
              "      fill: #FFFFFF;\n",
              "    }\n",
              "  </style>\n",
              "\n",
              "      <script>\n",
              "        const buttonEl =\n",
              "          document.querySelector('#df-e506a174-56b2-4982-8b84-cbc03deecae5 button.colab-df-convert');\n",
              "        buttonEl.style.display =\n",
              "          google.colab.kernel.accessAllowed ? 'block' : 'none';\n",
              "\n",
              "        async function convertToInteractive(key) {\n",
              "          const element = document.querySelector('#df-e506a174-56b2-4982-8b84-cbc03deecae5');\n",
              "          const dataTable =\n",
              "            await google.colab.kernel.invokeFunction('convertToInteractive',\n",
              "                                                     [key], {});\n",
              "          if (!dataTable) return;\n",
              "\n",
              "          const docLinkHtml = 'Like what you see? Visit the ' +\n",
              "            '<a target=\"_blank\" href=https://colab.research.google.com/notebooks/data_table.ipynb>data table notebook</a>'\n",
              "            + ' to learn more about interactive tables.';\n",
              "          element.innerHTML = '';\n",
              "          dataTable['output_type'] = 'display_data';\n",
              "          await google.colab.output.renderOutput(dataTable, element);\n",
              "          const docLink = document.createElement('div');\n",
              "          docLink.innerHTML = docLinkHtml;\n",
              "          element.appendChild(docLink);\n",
              "        }\n",
              "      </script>\n",
              "    </div>\n",
              "  </div>\n",
              "  "
            ],
            "text/plain": [
              "                                               videos                                            authors\n",
              "0                           BEST JOBS in Data Science  [guiseppehammer, fernleaf1, p s, Lambda Citize...\n",
              "1   Become a DATA ANALYST with NO degree?!? The Go...  [R, El_Shaddai Fire Ministries, South India., ...\n",
              "2   Building a bot to scrape job data… How NOT to ...  [Laxya Berde, Cara Ziegel, redmash beats, Stor...\n",
              "3   Calculated Fields in Tableau (Formulas & IF St...               [Anas El-Sahly, Mustapha El Ouahabi]\n",
              "4   Certificates vs Degree for Data Analysts (ft. ...  [Orlando, Get Things Built, S E, Rema Khiangte...\n",
              "..                                                ...                                                ...\n",
              "60    Use THIS to showcase EXPERIENCE in Data Science  [Germano Vieira, dinhquy, Andrew, Shams Shaikh...\n",
              "61  Using VS Code with Python for Data Science / D...  [yevgeniy Bondar, Georgina Zhou, BXJacky, Pabl...\n",
              "62        What is Business Intelligence (BI)? #shorts                                      [Mercy Dlaba]\n",
              "63               Why you should NOT be a Data Analyst  [sskylark _, Daniel Hallam, TheSweetAmy0, Hami...\n",
              "64     Windows on the M1 Mac - What are your options?  [rEvolver, David G., Lemonade, Ralph Buoncrist...\n",
              "\n",
              "[65 rows x 2 columns]"
            ]
          },
          "metadata": {},
          "execution_count": 9
        }
      ]
    },
    {
      "cell_type": "markdown",
      "source": [
        "Nella seguente lista vengono definiti i titoli dei video appartenenti unicamente alle 2 playlist menzionate sopra."
      ],
      "metadata": {
        "id": "MFZfM6sVOXQO"
      }
    },
    {
      "cell_type": "code",
      "source": [
        "python=[\"Python for Data Science / Analysis ft. 'The Office' Dataset - P.0\",\n",
        "'Python Objects frequently used in Data Science / Data Analysis - P.1',\n",
        "'Python If Statements for Data Science / Data Analysis - P.2',\n",
        "'Python For & While Loops for Data Science / Data Analysis - P.3',\n",
        "'Python List Comprehension for Data Science / Data Analysis - P.4',\n",
        "'Python Functions for Data Science / Data Analysis - P.5',\n",
        "'Lambda Functions for Data Science / Data Analysis - Python P.6',\n",
        "'Install Python for Data Science on Mac & Windows (PC) with Anaconda - P.1',\n",
        "'How to run Python for Data Science - Editors vs IDEs - P.2',\n",
        "'Install VS Code with Python for Data Science / Data Analysis - P.3',\n",
        "'Understanding Virtual Environments for Data Science / Data Analysis - P.4',\n",
        "'Using VS Code with Python for Data Science / Data Analysis - P.5']"
      ],
      "metadata": {
        "id": "COki7o-8CezH"
      },
      "execution_count": 10,
      "outputs": []
    },
    {
      "cell_type": "markdown",
      "source": [
        "Successivamente, all'interno del dataset *new* vengono selezionati solo i titoli dei video contenuti nella lista *python*."
      ],
      "metadata": {
        "id": "AwpIqGfoBb2j"
      }
    },
    {
      "cell_type": "code",
      "source": [
        "new = new[new[\"videos\"].isin(python)]\n",
        "new = new.reset_index()\n",
        "new"
      ],
      "metadata": {
        "colab": {
          "base_uri": "https://localhost:8080/",
          "height": 394
        },
        "id": "1S8dN9utQkhZ",
        "outputId": "16501696-dde1-4695-b10a-29086ee20d97"
      },
      "execution_count": 11,
      "outputs": [
        {
          "output_type": "execute_result",
          "data": {
            "text/html": [
              "\n",
              "  <div id=\"df-241acce0-d53f-4560-866d-7a1d8dc38a47\">\n",
              "    <div class=\"colab-df-container\">\n",
              "      <div>\n",
              "<style scoped>\n",
              "    .dataframe tbody tr th:only-of-type {\n",
              "        vertical-align: middle;\n",
              "    }\n",
              "\n",
              "    .dataframe tbody tr th {\n",
              "        vertical-align: top;\n",
              "    }\n",
              "\n",
              "    .dataframe thead th {\n",
              "        text-align: right;\n",
              "    }\n",
              "</style>\n",
              "<table border=\"1\" class=\"dataframe\">\n",
              "  <thead>\n",
              "    <tr style=\"text-align: right;\">\n",
              "      <th></th>\n",
              "      <th>index</th>\n",
              "      <th>videos</th>\n",
              "      <th>authors</th>\n",
              "    </tr>\n",
              "  </thead>\n",
              "  <tbody>\n",
              "    <tr>\n",
              "      <th>0</th>\n",
              "      <td>25</td>\n",
              "      <td>How to run Python for Data Science - Editors v...</td>\n",
              "      <td>[Muzammil Abbas, Teck Jiun Ho, Jordan Hubbard,...</td>\n",
              "    </tr>\n",
              "    <tr>\n",
              "      <th>1</th>\n",
              "      <td>27</td>\n",
              "      <td>Install Python for Data Science on Mac &amp; Windo...</td>\n",
              "      <td>[Bobby _, Jonathan Jarzabek, Musaab Shawesh, A...</td>\n",
              "    </tr>\n",
              "    <tr>\n",
              "      <th>2</th>\n",
              "      <td>28</td>\n",
              "      <td>Install VS Code with Python for Data Science /...</td>\n",
              "      <td>[Syed Sirajudeen, Kok Yang Chuang, Nisais N, K...</td>\n",
              "    </tr>\n",
              "    <tr>\n",
              "      <th>3</th>\n",
              "      <td>30</td>\n",
              "      <td>Lambda Functions for Data Science / Data Analy...</td>\n",
              "      <td>[Abhishek Kanani, Angie H, Ben Odams, Bryan Go...</td>\n",
              "    </tr>\n",
              "    <tr>\n",
              "      <th>4</th>\n",
              "      <td>40</td>\n",
              "      <td>Python For &amp; While Loops for Data Science / Da...</td>\n",
              "      <td>[shubham negi, adfbi, Learner Learner, Дмитрий...</td>\n",
              "    </tr>\n",
              "    <tr>\n",
              "      <th>5</th>\n",
              "      <td>41</td>\n",
              "      <td>Python Functions for Data Science / Data Analy...</td>\n",
              "      <td>[Daniel Mateo, Toni torre, Rafael Tenório, Ank...</td>\n",
              "    </tr>\n",
              "    <tr>\n",
              "      <th>6</th>\n",
              "      <td>42</td>\n",
              "      <td>Python If Statements for Data Science / Data A...</td>\n",
              "      <td>[JohnPaul Bertiz, Thayná Azevedo Carvalho, adf...</td>\n",
              "    </tr>\n",
              "    <tr>\n",
              "      <th>7</th>\n",
              "      <td>43</td>\n",
              "      <td>Python List Comprehension for Data Science / D...</td>\n",
              "      <td>[Terris Thompson, Flying Thestrals, Irfan Ulla...</td>\n",
              "    </tr>\n",
              "    <tr>\n",
              "      <th>8</th>\n",
              "      <td>44</td>\n",
              "      <td>Python Objects frequently used in Data Science...</td>\n",
              "      <td>[adfbi, Cris Olivares, Eminent Jade, Willian F...</td>\n",
              "    </tr>\n",
              "    <tr>\n",
              "      <th>9</th>\n",
              "      <td>58</td>\n",
              "      <td>Understanding Virtual Environments for Data Sc...</td>\n",
              "      <td>[yevgeniy Bondar, Eddie Brito, Pablo Dini, Jen...</td>\n",
              "    </tr>\n",
              "    <tr>\n",
              "      <th>10</th>\n",
              "      <td>61</td>\n",
              "      <td>Using VS Code with Python for Data Science / D...</td>\n",
              "      <td>[yevgeniy Bondar, Georgina Zhou, BXJacky, Pabl...</td>\n",
              "    </tr>\n",
              "  </tbody>\n",
              "</table>\n",
              "</div>\n",
              "      <button class=\"colab-df-convert\" onclick=\"convertToInteractive('df-241acce0-d53f-4560-866d-7a1d8dc38a47')\"\n",
              "              title=\"Convert this dataframe to an interactive table.\"\n",
              "              style=\"display:none;\">\n",
              "        \n",
              "  <svg xmlns=\"http://www.w3.org/2000/svg\" height=\"24px\"viewBox=\"0 0 24 24\"\n",
              "       width=\"24px\">\n",
              "    <path d=\"M0 0h24v24H0V0z\" fill=\"none\"/>\n",
              "    <path d=\"M18.56 5.44l.94 2.06.94-2.06 2.06-.94-2.06-.94-.94-2.06-.94 2.06-2.06.94zm-11 1L8.5 8.5l.94-2.06 2.06-.94-2.06-.94L8.5 2.5l-.94 2.06-2.06.94zm10 10l.94 2.06.94-2.06 2.06-.94-2.06-.94-.94-2.06-.94 2.06-2.06.94z\"/><path d=\"M17.41 7.96l-1.37-1.37c-.4-.4-.92-.59-1.43-.59-.52 0-1.04.2-1.43.59L10.3 9.45l-7.72 7.72c-.78.78-.78 2.05 0 2.83L4 21.41c.39.39.9.59 1.41.59.51 0 1.02-.2 1.41-.59l7.78-7.78 2.81-2.81c.8-.78.8-2.07 0-2.86zM5.41 20L4 18.59l7.72-7.72 1.47 1.35L5.41 20z\"/>\n",
              "  </svg>\n",
              "      </button>\n",
              "      \n",
              "  <style>\n",
              "    .colab-df-container {\n",
              "      display:flex;\n",
              "      flex-wrap:wrap;\n",
              "      gap: 12px;\n",
              "    }\n",
              "\n",
              "    .colab-df-convert {\n",
              "      background-color: #E8F0FE;\n",
              "      border: none;\n",
              "      border-radius: 50%;\n",
              "      cursor: pointer;\n",
              "      display: none;\n",
              "      fill: #1967D2;\n",
              "      height: 32px;\n",
              "      padding: 0 0 0 0;\n",
              "      width: 32px;\n",
              "    }\n",
              "\n",
              "    .colab-df-convert:hover {\n",
              "      background-color: #E2EBFA;\n",
              "      box-shadow: 0px 1px 2px rgba(60, 64, 67, 0.3), 0px 1px 3px 1px rgba(60, 64, 67, 0.15);\n",
              "      fill: #174EA6;\n",
              "    }\n",
              "\n",
              "    [theme=dark] .colab-df-convert {\n",
              "      background-color: #3B4455;\n",
              "      fill: #D2E3FC;\n",
              "    }\n",
              "\n",
              "    [theme=dark] .colab-df-convert:hover {\n",
              "      background-color: #434B5C;\n",
              "      box-shadow: 0px 1px 3px 1px rgba(0, 0, 0, 0.15);\n",
              "      filter: drop-shadow(0px 1px 2px rgba(0, 0, 0, 0.3));\n",
              "      fill: #FFFFFF;\n",
              "    }\n",
              "  </style>\n",
              "\n",
              "      <script>\n",
              "        const buttonEl =\n",
              "          document.querySelector('#df-241acce0-d53f-4560-866d-7a1d8dc38a47 button.colab-df-convert');\n",
              "        buttonEl.style.display =\n",
              "          google.colab.kernel.accessAllowed ? 'block' : 'none';\n",
              "\n",
              "        async function convertToInteractive(key) {\n",
              "          const element = document.querySelector('#df-241acce0-d53f-4560-866d-7a1d8dc38a47');\n",
              "          const dataTable =\n",
              "            await google.colab.kernel.invokeFunction('convertToInteractive',\n",
              "                                                     [key], {});\n",
              "          if (!dataTable) return;\n",
              "\n",
              "          const docLinkHtml = 'Like what you see? Visit the ' +\n",
              "            '<a target=\"_blank\" href=https://colab.research.google.com/notebooks/data_table.ipynb>data table notebook</a>'\n",
              "            + ' to learn more about interactive tables.';\n",
              "          element.innerHTML = '';\n",
              "          dataTable['output_type'] = 'display_data';\n",
              "          await google.colab.output.renderOutput(dataTable, element);\n",
              "          const docLink = document.createElement('div');\n",
              "          docLink.innerHTML = docLinkHtml;\n",
              "          element.appendChild(docLink);\n",
              "        }\n",
              "      </script>\n",
              "    </div>\n",
              "  </div>\n",
              "  "
            ],
            "text/plain": [
              "    index  ...                                            authors\n",
              "0      25  ...  [Muzammil Abbas, Teck Jiun Ho, Jordan Hubbard,...\n",
              "1      27  ...  [Bobby _, Jonathan Jarzabek, Musaab Shawesh, A...\n",
              "2      28  ...  [Syed Sirajudeen, Kok Yang Chuang, Nisais N, K...\n",
              "3      30  ...  [Abhishek Kanani, Angie H, Ben Odams, Bryan Go...\n",
              "4      40  ...  [shubham negi, adfbi, Learner Learner, Дмитрий...\n",
              "5      41  ...  [Daniel Mateo, Toni torre, Rafael Tenório, Ank...\n",
              "6      42  ...  [JohnPaul Bertiz, Thayná Azevedo Carvalho, adf...\n",
              "7      43  ...  [Terris Thompson, Flying Thestrals, Irfan Ulla...\n",
              "8      44  ...  [adfbi, Cris Olivares, Eminent Jade, Willian F...\n",
              "9      58  ...  [yevgeniy Bondar, Eddie Brito, Pablo Dini, Jen...\n",
              "10     61  ...  [yevgeniy Bondar, Georgina Zhou, BXJacky, Pabl...\n",
              "\n",
              "[11 rows x 3 columns]"
            ]
          },
          "metadata": {},
          "execution_count": 11
        }
      ]
    },
    {
      "cell_type": "markdown",
      "source": [
        "Si procede dunque con la costruzione del grafo, come spiegato in precedenza:"
      ],
      "metadata": {
        "id": "nICnOme9BlLj"
      }
    },
    {
      "cell_type": "code",
      "source": [
        "G_new = nx.Graph() \n",
        "for i in range(len(new)):\n",
        "  gruppo = list(itertools.combinations(new.loc[i].authors, 2))\n",
        "  for k in gruppo:\n",
        "    if (k[0], k[1]) in G_new.edges():\n",
        "      data = G_new.get_edge_data(k[0], k[1]) #, key='edge')\n",
        "      G_new.add_edge(k[0], k[1], weight=data['weight']+1)\n",
        "    else:\n",
        "      G_new.add_edge(k[0], k[1], weight=1)"
      ],
      "metadata": {
        "id": "QRK8Eaxf315W"
      },
      "execution_count": 24,
      "outputs": []
    },
    {
      "cell_type": "code",
      "source": [
        "print(len(list(G_new.edges)), len(list(G_new.nodes)))"
      ],
      "metadata": {
        "id": "bSA31-UYZxmn",
        "colab": {
          "base_uri": "https://localhost:8080/"
        },
        "outputId": "fd80e4da-7e2b-4e11-c04b-ee2abb1266b6"
      },
      "execution_count": 22,
      "outputs": [
        {
          "output_type": "stream",
          "name": "stdout",
          "text": [
            "702 96\n"
          ]
        }
      ]
    },
    {
      "cell_type": "markdown",
      "source": [
        "Il grafo è costituito da 96 nodi e 702 archi.\n",
        "\n",
        "É possibile visualizzare il grafo in una pagina *html*:"
      ],
      "metadata": {
        "id": "VvjzeFAGPFNl"
      }
    },
    {
      "cell_type": "code",
      "source": [
        "net_new = Network('500px', '500px')\n",
        "net_new.from_nx(G_new)\n",
        "# net.show_buttons(filter_=['physics'])\n",
        "net_new.show('G_new.html')"
      ],
      "metadata": {
        "id": "TuJW4Z6mSPjr"
      },
      "execution_count": 23,
      "outputs": []
    },
    {
      "cell_type": "markdown",
      "source": [
        "Si prosegue ora con un'analisi legata alla *Community Detection* utilizzando l'approccio Girvan-Newman, già descritto in precedenza:"
      ],
      "metadata": {
        "id": "oBUpWyKiB3lh"
      }
    },
    {
      "cell_type": "code",
      "source": [
        "result = nx.algorithms.community.centrality.girvan_newman(G_new) \n",
        "communities = next(result)\n",
        "len(communities)"
      ],
      "metadata": {
        "colab": {
          "base_uri": "https://localhost:8080/"
        },
        "id": "3b4Y547CNw65",
        "outputId": "39c605a6-efb0-4777-9708-bdbd1f1cc12c"
      },
      "execution_count": 15,
      "outputs": [
        {
          "output_type": "execute_result",
          "data": {
            "text/plain": [
              "5"
            ]
          },
          "metadata": {},
          "execution_count": 15
        }
      ]
    },
    {
      "cell_type": "code",
      "source": [
        "communities_len = []\n",
        "for i in range(len(communities)):\n",
        "  communities_len.append(len(list(communities)[i]))\n",
        "print(communities_len) # numerosità delle communities"
      ],
      "metadata": {
        "colab": {
          "base_uri": "https://localhost:8080/"
        },
        "id": "bDchxS-zU8db",
        "outputId": "9c9eef9e-1451-4d92-d818-3ff9451626a4"
      },
      "execution_count": 18,
      "outputs": [
        {
          "output_type": "stream",
          "name": "stdout",
          "text": [
            "[48, 6, 6, 28, 8]\n"
          ]
        }
      ]
    },
    {
      "cell_type": "code",
      "source": [
        "G_communities = G_new # grafo con le communities\n",
        "for el in range(len(communities)):\n",
        "  for i in range(len(list(communities[el]))):\n",
        "    G_communities.nodes[list(communities[el])[i]]['group'] = el"
      ],
      "metadata": {
        "id": "yjZjfJbnU9H3"
      },
      "execution_count": 19,
      "outputs": []
    },
    {
      "cell_type": "code",
      "source": [
        "net_communities = Network('500px', '500px')\n",
        "net_communities.from_nx(G_communities)\n",
        "# net.show_buttons(filter_=['physics'])\n",
        "net_communities.show('G_communities.html') # plot del grafo con le communities"
      ],
      "metadata": {
        "id": "4TvTzLYjVJkn"
      },
      "execution_count": 20,
      "outputs": []
    },
    {
      "cell_type": "markdown",
      "source": [
        "Dalla analisi emergono 5 diverse comunità, 2 caratterizzate da una numerosità molto più elevata delle restanti 3.\n",
        "\n",
        "Infine, vengono calcolati i valori di modulartità ed assortatività della rete riguardante i video Python:"
      ],
      "metadata": {
        "id": "4F5j-6CXE1VI"
      }
    },
    {
      "cell_type": "code",
      "source": [
        "modularity = nx.algorithms.community.quality.modularity(G_new, communities=communities)\n",
        "modularity"
      ],
      "metadata": {
        "colab": {
          "base_uri": "https://localhost:8080/"
        },
        "id": "R9s3Gz_ONdjR",
        "outputId": "2bbd4bb8-095e-438c-fbd6-33a2ff4a68ce"
      },
      "execution_count": 16,
      "outputs": [
        {
          "output_type": "execute_result",
          "data": {
            "text/plain": [
              "0.4774911285048971"
            ]
          },
          "metadata": {},
          "execution_count": 16
        }
      ]
    },
    {
      "cell_type": "markdown",
      "source": [
        "Il valore di modularità è pari a 0.48 circa; questo suggerisce che la configuranzione a cluster trovata, si distingue da una possibile composizione randomica della rete. Inoltre, essendo il valore positivo, si evincono dei legami positivi all'interno della rete (ovvero il numero di archi presenti nella rete è maggiore del numero di archi attesi)."
      ],
      "metadata": {
        "id": "luWo7BYKY00o"
      }
    },
    {
      "cell_type": "code",
      "source": [
        "assortativity = nx.algorithms.assortativity.degree_assortativity_coefficient(G_new)\n",
        "assortativity"
      ],
      "metadata": {
        "id": "LUtEU2pUTYJU",
        "outputId": "d192ac2c-864c-450a-b698-47863d8a2e06",
        "colab": {
          "base_uri": "https://localhost:8080/"
        }
      },
      "execution_count": 17,
      "outputs": [
        {
          "output_type": "execute_result",
          "data": {
            "text/plain": [
              "0.48193197398331"
            ]
          },
          "metadata": {},
          "execution_count": 17
        }
      ]
    },
    {
      "cell_type": "markdown",
      "source": [
        "Anche il valore di assortatività della rete è positivo. Grazie a questo è possibile evincere che la rete sia assortativa."
      ],
      "metadata": {
        "id": "KtyK7k5UZuYR"
      }
    }
  ]
}